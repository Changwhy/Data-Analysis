{
 "cells": [
  {
   "cell_type": "code",
   "execution_count": 53,
   "metadata": {},
   "outputs": [],
   "source": [
    "import pandas as pd"
   ]
  },
  {
   "cell_type": "markdown",
   "metadata": {},
   "source": [
    "## Load Dataset"
   ]
  },
  {
   "cell_type": "code",
   "execution_count": 54,
   "metadata": {},
   "outputs": [
    {
     "name": "stdout",
     "output_type": "stream",
     "text": [
      "(891, 11)\n"
     ]
    },
    {
     "data": {
      "text/html": [
       "<div>\n",
       "<style scoped>\n",
       "    .dataframe tbody tr th:only-of-type {\n",
       "        vertical-align: middle;\n",
       "    }\n",
       "\n",
       "    .dataframe tbody tr th {\n",
       "        vertical-align: top;\n",
       "    }\n",
       "\n",
       "    .dataframe thead th {\n",
       "        text-align: right;\n",
       "    }\n",
       "</style>\n",
       "<table border=\"1\" class=\"dataframe\">\n",
       "  <thead>\n",
       "    <tr style=\"text-align: right;\">\n",
       "      <th></th>\n",
       "      <th>Survived</th>\n",
       "      <th>Pclass</th>\n",
       "      <th>Name</th>\n",
       "      <th>Sex</th>\n",
       "      <th>Age</th>\n",
       "      <th>SibSp</th>\n",
       "      <th>Parch</th>\n",
       "      <th>Ticket</th>\n",
       "      <th>Fare</th>\n",
       "      <th>Cabin</th>\n",
       "      <th>Embarked</th>\n",
       "    </tr>\n",
       "    <tr>\n",
       "      <th>PassengerId</th>\n",
       "      <th></th>\n",
       "      <th></th>\n",
       "      <th></th>\n",
       "      <th></th>\n",
       "      <th></th>\n",
       "      <th></th>\n",
       "      <th></th>\n",
       "      <th></th>\n",
       "      <th></th>\n",
       "      <th></th>\n",
       "      <th></th>\n",
       "    </tr>\n",
       "  </thead>\n",
       "  <tbody>\n",
       "    <tr>\n",
       "      <td>1</td>\n",
       "      <td>0</td>\n",
       "      <td>3</td>\n",
       "      <td>Braund, Mr. Owen Harris</td>\n",
       "      <td>male</td>\n",
       "      <td>22.0</td>\n",
       "      <td>1</td>\n",
       "      <td>0</td>\n",
       "      <td>A/5 21171</td>\n",
       "      <td>7.2500</td>\n",
       "      <td>NaN</td>\n",
       "      <td>S</td>\n",
       "    </tr>\n",
       "    <tr>\n",
       "      <td>2</td>\n",
       "      <td>1</td>\n",
       "      <td>1</td>\n",
       "      <td>Cumings, Mrs. John Bradley (Florence Briggs Th...</td>\n",
       "      <td>female</td>\n",
       "      <td>38.0</td>\n",
       "      <td>1</td>\n",
       "      <td>0</td>\n",
       "      <td>PC 17599</td>\n",
       "      <td>71.2833</td>\n",
       "      <td>C85</td>\n",
       "      <td>C</td>\n",
       "    </tr>\n",
       "    <tr>\n",
       "      <td>3</td>\n",
       "      <td>1</td>\n",
       "      <td>3</td>\n",
       "      <td>Heikkinen, Miss. Laina</td>\n",
       "      <td>female</td>\n",
       "      <td>26.0</td>\n",
       "      <td>0</td>\n",
       "      <td>0</td>\n",
       "      <td>STON/O2. 3101282</td>\n",
       "      <td>7.9250</td>\n",
       "      <td>NaN</td>\n",
       "      <td>S</td>\n",
       "    </tr>\n",
       "    <tr>\n",
       "      <td>4</td>\n",
       "      <td>1</td>\n",
       "      <td>1</td>\n",
       "      <td>Futrelle, Mrs. Jacques Heath (Lily May Peel)</td>\n",
       "      <td>female</td>\n",
       "      <td>35.0</td>\n",
       "      <td>1</td>\n",
       "      <td>0</td>\n",
       "      <td>113803</td>\n",
       "      <td>53.1000</td>\n",
       "      <td>C123</td>\n",
       "      <td>S</td>\n",
       "    </tr>\n",
       "    <tr>\n",
       "      <td>5</td>\n",
       "      <td>0</td>\n",
       "      <td>3</td>\n",
       "      <td>Allen, Mr. William Henry</td>\n",
       "      <td>male</td>\n",
       "      <td>35.0</td>\n",
       "      <td>0</td>\n",
       "      <td>0</td>\n",
       "      <td>373450</td>\n",
       "      <td>8.0500</td>\n",
       "      <td>NaN</td>\n",
       "      <td>S</td>\n",
       "    </tr>\n",
       "  </tbody>\n",
       "</table>\n",
       "</div>"
      ],
      "text/plain": [
       "             Survived  Pclass  \\\n",
       "PassengerId                     \n",
       "1                   0       3   \n",
       "2                   1       1   \n",
       "3                   1       3   \n",
       "4                   1       1   \n",
       "5                   0       3   \n",
       "\n",
       "                                                          Name     Sex   Age  \\\n",
       "PassengerId                                                                    \n",
       "1                                      Braund, Mr. Owen Harris    male  22.0   \n",
       "2            Cumings, Mrs. John Bradley (Florence Briggs Th...  female  38.0   \n",
       "3                                       Heikkinen, Miss. Laina  female  26.0   \n",
       "4                 Futrelle, Mrs. Jacques Heath (Lily May Peel)  female  35.0   \n",
       "5                                     Allen, Mr. William Henry    male  35.0   \n",
       "\n",
       "             SibSp  Parch            Ticket     Fare Cabin Embarked  \n",
       "PassengerId                                                          \n",
       "1                1      0         A/5 21171   7.2500   NaN        S  \n",
       "2                1      0          PC 17599  71.2833   C85        C  \n",
       "3                0      0  STON/O2. 3101282   7.9250   NaN        S  \n",
       "4                1      0            113803  53.1000  C123        S  \n",
       "5                0      0            373450   8.0500   NaN        S  "
      ]
     },
     "execution_count": 54,
     "metadata": {},
     "output_type": "execute_result"
    }
   ],
   "source": [
    "train = pd.read_csv('titanic/train.csv', index_col = 'PassengerId')\n",
    "print(train.shape)\n",
    "train.head()"
   ]
  },
  {
   "cell_type": "code",
   "execution_count": 55,
   "metadata": {},
   "outputs": [
    {
     "name": "stdout",
     "output_type": "stream",
     "text": [
      "(418, 10)\n"
     ]
    },
    {
     "data": {
      "text/html": [
       "<div>\n",
       "<style scoped>\n",
       "    .dataframe tbody tr th:only-of-type {\n",
       "        vertical-align: middle;\n",
       "    }\n",
       "\n",
       "    .dataframe tbody tr th {\n",
       "        vertical-align: top;\n",
       "    }\n",
       "\n",
       "    .dataframe thead th {\n",
       "        text-align: right;\n",
       "    }\n",
       "</style>\n",
       "<table border=\"1\" class=\"dataframe\">\n",
       "  <thead>\n",
       "    <tr style=\"text-align: right;\">\n",
       "      <th></th>\n",
       "      <th>Pclass</th>\n",
       "      <th>Name</th>\n",
       "      <th>Sex</th>\n",
       "      <th>Age</th>\n",
       "      <th>SibSp</th>\n",
       "      <th>Parch</th>\n",
       "      <th>Ticket</th>\n",
       "      <th>Fare</th>\n",
       "      <th>Cabin</th>\n",
       "      <th>Embarked</th>\n",
       "    </tr>\n",
       "    <tr>\n",
       "      <th>PassengerId</th>\n",
       "      <th></th>\n",
       "      <th></th>\n",
       "      <th></th>\n",
       "      <th></th>\n",
       "      <th></th>\n",
       "      <th></th>\n",
       "      <th></th>\n",
       "      <th></th>\n",
       "      <th></th>\n",
       "      <th></th>\n",
       "    </tr>\n",
       "  </thead>\n",
       "  <tbody>\n",
       "    <tr>\n",
       "      <td>892</td>\n",
       "      <td>3</td>\n",
       "      <td>Kelly, Mr. James</td>\n",
       "      <td>male</td>\n",
       "      <td>34.5</td>\n",
       "      <td>0</td>\n",
       "      <td>0</td>\n",
       "      <td>330911</td>\n",
       "      <td>7.8292</td>\n",
       "      <td>NaN</td>\n",
       "      <td>Q</td>\n",
       "    </tr>\n",
       "    <tr>\n",
       "      <td>893</td>\n",
       "      <td>3</td>\n",
       "      <td>Wilkes, Mrs. James (Ellen Needs)</td>\n",
       "      <td>female</td>\n",
       "      <td>47.0</td>\n",
       "      <td>1</td>\n",
       "      <td>0</td>\n",
       "      <td>363272</td>\n",
       "      <td>7.0000</td>\n",
       "      <td>NaN</td>\n",
       "      <td>S</td>\n",
       "    </tr>\n",
       "    <tr>\n",
       "      <td>894</td>\n",
       "      <td>2</td>\n",
       "      <td>Myles, Mr. Thomas Francis</td>\n",
       "      <td>male</td>\n",
       "      <td>62.0</td>\n",
       "      <td>0</td>\n",
       "      <td>0</td>\n",
       "      <td>240276</td>\n",
       "      <td>9.6875</td>\n",
       "      <td>NaN</td>\n",
       "      <td>Q</td>\n",
       "    </tr>\n",
       "    <tr>\n",
       "      <td>895</td>\n",
       "      <td>3</td>\n",
       "      <td>Wirz, Mr. Albert</td>\n",
       "      <td>male</td>\n",
       "      <td>27.0</td>\n",
       "      <td>0</td>\n",
       "      <td>0</td>\n",
       "      <td>315154</td>\n",
       "      <td>8.6625</td>\n",
       "      <td>NaN</td>\n",
       "      <td>S</td>\n",
       "    </tr>\n",
       "    <tr>\n",
       "      <td>896</td>\n",
       "      <td>3</td>\n",
       "      <td>Hirvonen, Mrs. Alexander (Helga E Lindqvist)</td>\n",
       "      <td>female</td>\n",
       "      <td>22.0</td>\n",
       "      <td>1</td>\n",
       "      <td>1</td>\n",
       "      <td>3101298</td>\n",
       "      <td>12.2875</td>\n",
       "      <td>NaN</td>\n",
       "      <td>S</td>\n",
       "    </tr>\n",
       "  </tbody>\n",
       "</table>\n",
       "</div>"
      ],
      "text/plain": [
       "             Pclass                                          Name     Sex  \\\n",
       "PassengerId                                                                 \n",
       "892               3                              Kelly, Mr. James    male   \n",
       "893               3              Wilkes, Mrs. James (Ellen Needs)  female   \n",
       "894               2                     Myles, Mr. Thomas Francis    male   \n",
       "895               3                              Wirz, Mr. Albert    male   \n",
       "896               3  Hirvonen, Mrs. Alexander (Helga E Lindqvist)  female   \n",
       "\n",
       "              Age  SibSp  Parch   Ticket     Fare Cabin Embarked  \n",
       "PassengerId                                                       \n",
       "892          34.5      0      0   330911   7.8292   NaN        Q  \n",
       "893          47.0      1      0   363272   7.0000   NaN        S  \n",
       "894          62.0      0      0   240276   9.6875   NaN        Q  \n",
       "895          27.0      0      0   315154   8.6625   NaN        S  \n",
       "896          22.0      1      1  3101298  12.2875   NaN        S  "
      ]
     },
     "execution_count": 55,
     "metadata": {},
     "output_type": "execute_result"
    }
   ],
   "source": [
    "test = pd.read_csv('titanic/test.csv', index_col = 'PassengerId')\n",
    "print(test.shape)\n",
    "test.head()"
   ]
  },
  {
   "cell_type": "markdown",
   "metadata": {},
   "source": [
    "## 1. EDA(Exploratory Data Analysis)"
   ]
  },
  {
   "cell_type": "code",
   "execution_count": 56,
   "metadata": {},
   "outputs": [],
   "source": [
    "#matplotlib을 주피터 화면 내에 띄우도록 해주는 주피터 명령어\n",
    "%matplotlib inline\n",
    "import pandas as pd\n",
    "#matplotlib을 이용해 그래프를 그릴 수 있는 pyplot (인터페이스 역할)과, 설정을 바꾸는데 사용되는 matplotlib 둘 다 import 합니다.\n",
    "import matplotlib as mpl\n",
    "import matplotlib.pyplot as plt\n",
    "# seaborn은 matplotlib보다 더 이쁘고 쉽게 그래프를 그릴 수 있는 라이브러리입니다. matplotlib을 이용해 동작하고, 자유도는 matplotlib에 비해 낮습니다.\n",
    "import seaborn as sns\n",
    "\n",
    "pd.options.display.max_columns = 100"
   ]
  },
  {
   "cell_type": "code",
   "execution_count": 57,
   "metadata": {},
   "outputs": [],
   "source": [
    "# retina 옵션을 통해 해상도를 올립니다.\n",
    "from IPython.display import set_matplotlib_formats\n",
    "\n",
    "set_matplotlib_formats('retina')\n",
    "#또는  %config InlineBackend.figure_format = 'retina' 사용 가능"
   ]
  },
  {
   "cell_type": "code",
   "execution_count": 58,
   "metadata": {},
   "outputs": [
    {
     "data": {
      "text/plain": [
       "Index(['Survived', 'Pclass', 'Name', 'Sex', 'Age', 'SibSp', 'Parch', 'Ticket',\n",
       "       'Fare', 'Cabin', 'Embarked'],\n",
       "      dtype='object')"
      ]
     },
     "execution_count": 58,
     "metadata": {},
     "output_type": "execute_result"
    }
   ],
   "source": [
    "train.columns"
   ]
  },
  {
   "cell_type": "code",
   "execution_count": 59,
   "metadata": {},
   "outputs": [
    {
     "data": {
      "text/html": [
       "<div>\n",
       "<style scoped>\n",
       "    .dataframe tbody tr th:only-of-type {\n",
       "        vertical-align: middle;\n",
       "    }\n",
       "\n",
       "    .dataframe tbody tr th {\n",
       "        vertical-align: top;\n",
       "    }\n",
       "\n",
       "    .dataframe thead th {\n",
       "        text-align: right;\n",
       "    }\n",
       "</style>\n",
       "<table border=\"1\" class=\"dataframe\">\n",
       "  <thead>\n",
       "    <tr style=\"text-align: right;\">\n",
       "      <th></th>\n",
       "      <th>Survived</th>\n",
       "      <th>Pclass</th>\n",
       "      <th>Age</th>\n",
       "      <th>SibSp</th>\n",
       "      <th>Parch</th>\n",
       "      <th>Fare</th>\n",
       "    </tr>\n",
       "  </thead>\n",
       "  <tbody>\n",
       "    <tr>\n",
       "      <td>count</td>\n",
       "      <td>891.000000</td>\n",
       "      <td>891.000000</td>\n",
       "      <td>714.000000</td>\n",
       "      <td>891.000000</td>\n",
       "      <td>891.000000</td>\n",
       "      <td>891.000000</td>\n",
       "    </tr>\n",
       "    <tr>\n",
       "      <td>mean</td>\n",
       "      <td>0.383838</td>\n",
       "      <td>2.308642</td>\n",
       "      <td>29.699118</td>\n",
       "      <td>0.523008</td>\n",
       "      <td>0.381594</td>\n",
       "      <td>32.204208</td>\n",
       "    </tr>\n",
       "    <tr>\n",
       "      <td>std</td>\n",
       "      <td>0.486592</td>\n",
       "      <td>0.836071</td>\n",
       "      <td>14.526497</td>\n",
       "      <td>1.102743</td>\n",
       "      <td>0.806057</td>\n",
       "      <td>49.693429</td>\n",
       "    </tr>\n",
       "    <tr>\n",
       "      <td>min</td>\n",
       "      <td>0.000000</td>\n",
       "      <td>1.000000</td>\n",
       "      <td>0.420000</td>\n",
       "      <td>0.000000</td>\n",
       "      <td>0.000000</td>\n",
       "      <td>0.000000</td>\n",
       "    </tr>\n",
       "    <tr>\n",
       "      <td>25%</td>\n",
       "      <td>0.000000</td>\n",
       "      <td>2.000000</td>\n",
       "      <td>20.125000</td>\n",
       "      <td>0.000000</td>\n",
       "      <td>0.000000</td>\n",
       "      <td>7.910400</td>\n",
       "    </tr>\n",
       "    <tr>\n",
       "      <td>50%</td>\n",
       "      <td>0.000000</td>\n",
       "      <td>3.000000</td>\n",
       "      <td>28.000000</td>\n",
       "      <td>0.000000</td>\n",
       "      <td>0.000000</td>\n",
       "      <td>14.454200</td>\n",
       "    </tr>\n",
       "    <tr>\n",
       "      <td>75%</td>\n",
       "      <td>1.000000</td>\n",
       "      <td>3.000000</td>\n",
       "      <td>38.000000</td>\n",
       "      <td>1.000000</td>\n",
       "      <td>0.000000</td>\n",
       "      <td>31.000000</td>\n",
       "    </tr>\n",
       "    <tr>\n",
       "      <td>max</td>\n",
       "      <td>1.000000</td>\n",
       "      <td>3.000000</td>\n",
       "      <td>80.000000</td>\n",
       "      <td>8.000000</td>\n",
       "      <td>6.000000</td>\n",
       "      <td>512.329200</td>\n",
       "    </tr>\n",
       "  </tbody>\n",
       "</table>\n",
       "</div>"
      ],
      "text/plain": [
       "         Survived      Pclass         Age       SibSp       Parch        Fare\n",
       "count  891.000000  891.000000  714.000000  891.000000  891.000000  891.000000\n",
       "mean     0.383838    2.308642   29.699118    0.523008    0.381594   32.204208\n",
       "std      0.486592    0.836071   14.526497    1.102743    0.806057   49.693429\n",
       "min      0.000000    1.000000    0.420000    0.000000    0.000000    0.000000\n",
       "25%      0.000000    2.000000   20.125000    0.000000    0.000000    7.910400\n",
       "50%      0.000000    3.000000   28.000000    0.000000    0.000000   14.454200\n",
       "75%      1.000000    3.000000   38.000000    1.000000    0.000000   31.000000\n",
       "max      1.000000    3.000000   80.000000    8.000000    6.000000  512.329200"
      ]
     },
     "execution_count": 59,
     "metadata": {},
     "output_type": "execute_result"
    }
   ],
   "source": [
    "train.describe()"
   ]
  },
  {
   "cell_type": "markdown",
   "metadata": {},
   "source": [
    "데이터를 살펴 보았을 때,  \n",
    "- 생존확률은 약 38%  \n",
    "- 탑승자의 평균 나이는 29세  \n",
    "- 탑승 평균 비용은 32 파운드  \n",
    "\n",
    "라는 것을 알 수 있다."
   ]
  },
  {
   "cell_type": "code",
   "execution_count": 60,
   "metadata": {},
   "outputs": [
    {
     "name": "stdout",
     "output_type": "stream",
     "text": [
      "<class 'pandas.core.frame.DataFrame'>\n",
      "Int64Index: 891 entries, 1 to 891\n",
      "Data columns (total 11 columns):\n",
      "Survived    891 non-null int64\n",
      "Pclass      891 non-null int64\n",
      "Name        891 non-null object\n",
      "Sex         891 non-null object\n",
      "Age         714 non-null float64\n",
      "SibSp       891 non-null int64\n",
      "Parch       891 non-null int64\n",
      "Ticket      891 non-null object\n",
      "Fare        891 non-null float64\n",
      "Cabin       204 non-null object\n",
      "Embarked    889 non-null object\n",
      "dtypes: float64(2), int64(4), object(5)\n",
      "memory usage: 83.5+ KB\n"
     ]
    }
   ],
   "source": [
    "train.info()"
   ]
  },
  {
   "cell_type": "code",
   "execution_count": 61,
   "metadata": {},
   "outputs": [
    {
     "name": "stdout",
     "output_type": "stream",
     "text": [
      "<class 'pandas.core.frame.DataFrame'>\n",
      "Int64Index: 418 entries, 892 to 1309\n",
      "Data columns (total 10 columns):\n",
      "Pclass      418 non-null int64\n",
      "Name        418 non-null object\n",
      "Sex         418 non-null object\n",
      "Age         332 non-null float64\n",
      "SibSp       418 non-null int64\n",
      "Parch       418 non-null int64\n",
      "Ticket      418 non-null object\n",
      "Fare        417 non-null float64\n",
      "Cabin       91 non-null object\n",
      "Embarked    418 non-null object\n",
      "dtypes: float64(2), int64(3), object(5)\n",
      "memory usage: 35.9+ KB\n"
     ]
    }
   ],
   "source": [
    "test.info()"
   ]
  },
  {
   "cell_type": "markdown",
   "metadata": {},
   "source": [
    "그리고 결측값이 있는 데이터를 살펴보았을 때, train data 전체 891개의 엔트리 중에서 Age, Cabin, Embarked의 경우는 결측값이 있다는 것을 알 수 있다.  \n",
    "또한, test data는 Age, Fare, Cabin에 결측값이 있다.  \n",
    "이는 추후에 특정 값들로 채워주거나 아예 열을 없애버려야 할 것이다."
   ]
  },
  {
   "cell_type": "markdown",
   "metadata": {},
   "source": [
    "그럼 여러 값들에 대해 차트를 만들어 생존 확률에 어느 정도의 영향을 미쳤는지 파악해보자"
   ]
  },
  {
   "cell_type": "code",
   "execution_count": 62,
   "metadata": {},
   "outputs": [],
   "source": [
    "# barchart를 생성하는 함수를 만든다.\n",
    "def barChart(val, axes):\n",
    "    df = pd.pivot_table(train ,index='Survived', values= 'Name', columns = val, aggfunc=len)\n",
    "    df\n",
    "    df.T.plot.bar(stacked=True, ax=axes)"
   ]
  },
  {
   "cell_type": "code",
   "execution_count": 63,
   "metadata": {},
   "outputs": [
    {
     "data": {
      "image/png": "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\n",
      "text/plain": [
       "<Figure size 1152x432 with 6 Axes>"
      ]
     },
     "metadata": {
      "image/png": {
       "height": 371,
       "width": 941
      },
      "needs_background": "light"
     },
     "output_type": "display_data"
    }
   ],
   "source": [
    "fig, axes = plt.subplots(2,3)\n",
    "fig.set_size_inches(16,6)\n",
    "barChart('Pclass', axes[0,0])\n",
    "barChart('Sex', axes[0,1])\n",
    "barChart('SibSp', axes[0,2])\n",
    "barChart('Parch', axes[1,0])\n",
    "barChart('Embarked', axes[1,1])"
   ]
  },
  {
   "cell_type": "markdown",
   "metadata": {},
   "source": [
    "각 변수들을 봤을 때, \n",
    "1. Pclass가 높을수록 생존 확률이 높았다.  \n",
    "2. 여성일수록 생존 확률이 높았다.    \n",
    "3. 함께 탑승한 형제나 배우자 수에 따른 생존 확률은 정확히 파악 불가 --> 추후에 비율을 다시한번 볼 필요가 있음. \n",
    "4. 함께 탑승한 부모님 또는 자녀들 수에 따른 생존 확률은 정확히 파악 불가 --> 추후에 비율을 다시한번 볼 필요가 있음.  \n",
    "5. 항구의 경우, Cherbourg, Queenstown, Southhampton 순으로 생존 확률이 높았다."
   ]
  },
  {
   "cell_type": "code",
   "execution_count": 64,
   "metadata": {},
   "outputs": [],
   "source": [
    "def kdeChart(val):\n",
    "    plt.figure(figsize=[16,4])\n",
    "    sns.kdeplot(train.loc[train['Survived']==0, val], shade=True)\n",
    "    sns.kdeplot(train.loc[train['Survived']==1, val], shade=True)\n",
    "    plt.legend(['dead', 'survive'])"
   ]
  },
  {
   "cell_type": "code",
   "execution_count": 65,
   "metadata": {},
   "outputs": [
    {
     "data": {
      "image/png": "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\n",
      "text/plain": [
       "<Figure size 1152x288 with 1 Axes>"
      ]
     },
     "metadata": {
      "image/png": {
       "height": 248,
       "width": 943
      },
      "needs_background": "light"
     },
     "output_type": "display_data"
    }
   ],
   "source": [
    "kdeChart('Age')"
   ]
  },
  {
   "cell_type": "markdown",
   "metadata": {},
   "source": [
    "나이와 생존자의 연관성을 확인해보았을 때,   \n",
    "- 0~17세까지는 생존자가 많았으며  \n",
    "- 17~30세까지는 사망자가 많았고\n",
    "- 4~50세, 60세 이상인 사람들 중에서도 사망자가 많았다.\n",
    "\n",
    "--> 위 정보는 추후에 유용하게 활용될 수 있을 것 같다."
   ]
  },
  {
   "cell_type": "code",
   "execution_count": 66,
   "metadata": {},
   "outputs": [
    {
     "data": {
      "image/png": "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\n",
      "text/plain": [
       "<Figure size 1152x288 with 1 Axes>"
      ]
     },
     "metadata": {
      "image/png": {
       "height": 248,
       "width": 936
      },
      "needs_background": "light"
     },
     "output_type": "display_data"
    }
   ],
   "source": [
    "kdeChart('Fare')"
   ]
  },
  {
   "cell_type": "markdown",
   "metadata": {},
   "source": [
    "또한, Fare의 경우를 살펴보았을 때에도 의미 있는 결과가 나올 수 있을 것 같다.  \n",
    "위 그래프를 보면 요금이 낮았을 때, 생존 확률이 크게 떨어졌다."
   ]
  },
  {
   "cell_type": "code",
   "execution_count": 67,
   "metadata": {},
   "outputs": [
    {
     "data": {
      "text/plain": [
       "Index(['Survived', 'Pclass', 'Name', 'Sex', 'Age', 'SibSp', 'Parch', 'Ticket',\n",
       "       'Fare', 'Cabin', 'Embarked'],\n",
       "      dtype='object')"
      ]
     },
     "execution_count": 67,
     "metadata": {},
     "output_type": "execute_result"
    }
   ],
   "source": [
    "train.columns"
   ]
  },
  {
   "cell_type": "markdown",
   "metadata": {},
   "source": [
    "1. 결측값 없애기\n",
    "    - Age\n",
    "    - Embarked\n",
    "    - Fare\n",
    "2. 범주화\n",
    "    - Age\n",
    "    - Fare\n",
    "3. 벡터화\n",
    "    - Sex\n",
    "    - Embarked\n",
    "    - Name\n",
    "4. 차원축소\n",
    "    - SibSp\n",
    "    - Parch    "
   ]
  },
  {
   "cell_type": "markdown",
   "metadata": {
    "toc-hr-collapsed": false
   },
   "source": [
    "## 2. 결측값 없애기\n",
    "위에서 확인한 바로 Age와 Cabin, Embarked에 결측값이 존재했다. 그런데 Cabin의 경우는 결측값이 너무 많고, 추후 활용방안에 대해 떠오르는 것이 없기 때문에  \n",
    "우선 Cabin은 제외하고 진행하겠다."
   ]
  },
  {
   "cell_type": "markdown",
   "metadata": {},
   "source": [
    "먼저 Age의 결측값을 채우기 위해 사람들의 이름을 볼 것이다. Age의 경우 값의 범위가 넓고 결측값이 적지 않기 때문에 단순히 평균값을 넣는 것은 좋지 않은 방법이다.  \n",
    "서양 문화에서는 그 사람의 특징을 특정 호칭을 통해 부르는 경우가 있다.  \n",
    "한국의 아저씨, 아주머니와 같이 나이대를 추측해볼 수 있는 호칭말이다.  \n",
    "따라서 탑승객의 이름에서 호칭을 분리해 그 호칭별 평균 나이를 결측값에 넣도록 하겠다."
   ]
  },
  {
   "cell_type": "code",
   "execution_count": 68,
   "metadata": {},
   "outputs": [
    {
     "data": {
      "text/plain": [
       "Dodge, Master. Washington                        1\n",
       "Palsson, Mrs. Nils (Alma Cornelia Berglund)      1\n",
       "Boulos, Mrs. Joseph (Sultana)                    1\n",
       "Mellinger, Miss. Madeleine Violet                1\n",
       "Doharr, Mr. Tannous                              1\n",
       "                                                ..\n",
       "Kent, Mr. Edward Austin                          1\n",
       "Olsen, Mr. Ole Martin                            1\n",
       "Laroche, Miss. Simonne Marie Anne Andree         1\n",
       "Arnold-Franchi, Mrs. Josef (Josefine Franchi)    1\n",
       "Abelson, Mrs. Samuel (Hannah Wizosky)            1\n",
       "Name: Name, Length: 891, dtype: int64"
      ]
     },
     "execution_count": 68,
     "metadata": {},
     "output_type": "execute_result"
    }
   ],
   "source": [
    "train['Name'].value_counts()"
   ]
  },
  {
   "cell_type": "code",
   "execution_count": 69,
   "metadata": {},
   "outputs": [
    {
     "data": {
      "text/plain": [
       "PassengerId\n",
       "1      Mr\n",
       "2     Mrs\n",
       "3    Miss\n",
       "4     Mrs\n",
       "5      Mr\n",
       "Name: Name_title, dtype: object"
      ]
     },
     "execution_count": 69,
     "metadata": {},
     "output_type": "execute_result"
    }
   ],
   "source": [
    "train['Name_title'] = train['Name'].str.extract('([A-Za-z]+)\\.')\n",
    "train['Name_title'].head()"
   ]
  },
  {
   "cell_type": "code",
   "execution_count": 70,
   "metadata": {},
   "outputs": [
    {
     "data": {
      "text/plain": [
       "Mr          517\n",
       "Miss        182\n",
       "Mrs         125\n",
       "Master       40\n",
       "Dr            7\n",
       "Rev           6\n",
       "Mlle          2\n",
       "Major         2\n",
       "Col           2\n",
       "Countess      1\n",
       "Mme           1\n",
       "Ms            1\n",
       "Capt          1\n",
       "Lady          1\n",
       "Don           1\n",
       "Sir           1\n",
       "Jonkheer      1\n",
       "Name: Name_title, dtype: int64"
      ]
     },
     "execution_count": 70,
     "metadata": {},
     "output_type": "execute_result"
    }
   ],
   "source": [
    "train['Name_title'].value_counts()"
   ]
  },
  {
   "cell_type": "markdown",
   "metadata": {},
   "source": [
    "호칭들이 꽤 많이 존재하기 때문에 비슷한 의미를 가지고 있는 호칭들로 그룹화시킬 필요가 있다. <br> \n",
    "이 때, Dr나 Rev 같이 성별이 애매한 경우는 현재 데이터에 있는 사람들의 Sex 정보를 통해 성별을 구분한다.  \n",
    "따라서 Dr의 경우는 한명을 제외한 모두가 male이기 때문에 Mr로 구분한다.\n",
    "추가로 Master는 어린 남성 아이를 의미하므로 Mr와 구분하였다."
   ]
  },
  {
   "cell_type": "markdown",
   "metadata": {},
   "source": [
    "test data도 마찬가지로 확인해보고 딕셔너리 리스트에 매핑할 이름을 추가해준다."
   ]
  },
  {
   "cell_type": "code",
   "execution_count": 71,
   "metadata": {},
   "outputs": [
    {
     "data": {
      "text/plain": [
       "Mr        240\n",
       "Miss       78\n",
       "Mrs        72\n",
       "Master     21\n",
       "Col         2\n",
       "Rev         2\n",
       "Dona        1\n",
       "Ms          1\n",
       "Dr          1\n",
       "Name: Name_title, dtype: int64"
      ]
     },
     "execution_count": 71,
     "metadata": {},
     "output_type": "execute_result"
    }
   ],
   "source": [
    "test['Name_title'] = test['Name'].str.extract('([A-Za-z]+)\\.')\n",
    "test['Name_title'].value_counts()"
   ]
  },
  {
   "cell_type": "code",
   "execution_count": 72,
   "metadata": {},
   "outputs": [],
   "source": [
    "newtitles={\n",
    "    \"Capt\":       \"Officer\",\n",
    "    \"Col\":        \"Officer\",\n",
    "    \"Major\":      \"Officer\",\n",
    "    \"Jonkheer\":   \"Royalty\",\n",
    "    \"Don\":        \"Royalty\",\n",
    "    \"Sir\" :       \"Royalty\",\n",
    "    \"Dr\":         \"Officer\",\n",
    "    \"Rev\":        \"Officer\",\n",
    "    \"the Countess\":\"Royalty\",\n",
    "    \"Dona\":       \"Royalty\",\n",
    "    \"Mme\":        \"Mrs\",\n",
    "    \"Mlle\":       \"Miss\",\n",
    "    \"Ms\":         \"Mrs\",\n",
    "    \"Mr\" :        \"Mr\",\n",
    "    \"Mrs\" :       \"Mrs\",\n",
    "    \"Miss\" :      \"Miss\",\n",
    "    \"Master\" :    \"Master\",\n",
    "    \"Lady\" :      \"Royalty\",\n",
    "    \"Countess\" : \"Royalty\"}\n",
    "\n",
    "train['Name_title'] = train['Name_title'].map(newtitles)\n",
    "test['Name_title'] = test['Name_title'].map(newtitles)"
   ]
  },
  {
   "cell_type": "code",
   "execution_count": 73,
   "metadata": {},
   "outputs": [
    {
     "data": {
      "text/plain": [
       "Mr         517\n",
       "Miss       184\n",
       "Mrs        127\n",
       "Master      40\n",
       "Officer     18\n",
       "Royalty      5\n",
       "Name: Name_title, dtype: int64"
      ]
     },
     "execution_count": 73,
     "metadata": {},
     "output_type": "execute_result"
    }
   ],
   "source": [
    "train['Name_title'].value_counts()"
   ]
  },
  {
   "cell_type": "code",
   "execution_count": 74,
   "metadata": {},
   "outputs": [
    {
     "data": {
      "text/plain": [
       "Mr         240\n",
       "Miss        78\n",
       "Mrs         73\n",
       "Master      21\n",
       "Officer      5\n",
       "Royalty      1\n",
       "Name: Name_title, dtype: int64"
      ]
     },
     "execution_count": 74,
     "metadata": {},
     "output_type": "execute_result"
    }
   ],
   "source": [
    "test['Name_title'].value_counts()"
   ]
  },
  {
   "cell_type": "markdown",
   "metadata": {},
   "source": [
    "### 2-1. Fill Age"
   ]
  },
  {
   "cell_type": "code",
   "execution_count": 75,
   "metadata": {},
   "outputs": [
    {
     "name": "stdout",
     "output_type": "stream",
     "text": [
      "0\n"
     ]
    },
    {
     "data": {
      "text/plain": [
       "0"
      ]
     },
     "execution_count": 75,
     "metadata": {},
     "output_type": "execute_result"
    }
   ],
   "source": [
    "# train, test 각각 name title 별 평균 나이를 반올림한다.\n",
    "train_fillAge = round(train.groupby('Name_title')['Age'].mean())\n",
    "test_fillAge = round(test.groupby('Name_title')['Age'].mean())\n",
    "\n",
    "# 딕셔너리 형태로 만들어주어 각 테이블 결측값에 매핑시킨다.\n",
    "fillAge = [dict(train_fillAge), dict(test_fillAge)]\n",
    "\n",
    "combine = [train, test]\n",
    "\n",
    "for i in range(2):\n",
    "    combine[i]['Age_clean'] = combine[i]['Age']    \n",
    "    combine[i].loc[pd.isnull(combine[i]['Age_clean']), 'Age_clean'] = combine[i].loc[pd.isnull(combine[i]['Age_clean']) ,'Name_title'].map(fillAge[i])\n",
    "       \n",
    "print(pd.isnull(train['Age_clean']).sum())\n",
    "pd.isnull(test['Age_clean']).sum()"
   ]
  },
  {
   "cell_type": "markdown",
   "metadata": {},
   "source": [
    "이제 Age에 대한 결측값은 모두 채웠다. 그럼 이제 Embarked와 Fare에 대한 결측값을 채우자!"
   ]
  },
  {
   "cell_type": "markdown",
   "metadata": {},
   "source": [
    "### 2-2. Fill Embarked"
   ]
  },
  {
   "cell_type": "code",
   "execution_count": 76,
   "metadata": {},
   "outputs": [
    {
     "data": {
      "text/html": [
       "<div>\n",
       "<style scoped>\n",
       "    .dataframe tbody tr th:only-of-type {\n",
       "        vertical-align: middle;\n",
       "    }\n",
       "\n",
       "    .dataframe tbody tr th {\n",
       "        vertical-align: top;\n",
       "    }\n",
       "\n",
       "    .dataframe thead th {\n",
       "        text-align: right;\n",
       "    }\n",
       "</style>\n",
       "<table border=\"1\" class=\"dataframe\">\n",
       "  <thead>\n",
       "    <tr style=\"text-align: right;\">\n",
       "      <th></th>\n",
       "      <th>Survived</th>\n",
       "      <th>Pclass</th>\n",
       "      <th>Name</th>\n",
       "      <th>Sex</th>\n",
       "      <th>Age</th>\n",
       "      <th>SibSp</th>\n",
       "      <th>Parch</th>\n",
       "      <th>Ticket</th>\n",
       "      <th>Fare</th>\n",
       "      <th>Cabin</th>\n",
       "      <th>Embarked</th>\n",
       "      <th>Name_title</th>\n",
       "      <th>Age_clean</th>\n",
       "    </tr>\n",
       "    <tr>\n",
       "      <th>PassengerId</th>\n",
       "      <th></th>\n",
       "      <th></th>\n",
       "      <th></th>\n",
       "      <th></th>\n",
       "      <th></th>\n",
       "      <th></th>\n",
       "      <th></th>\n",
       "      <th></th>\n",
       "      <th></th>\n",
       "      <th></th>\n",
       "      <th></th>\n",
       "      <th></th>\n",
       "      <th></th>\n",
       "    </tr>\n",
       "  </thead>\n",
       "  <tbody>\n",
       "    <tr>\n",
       "      <td>62</td>\n",
       "      <td>1</td>\n",
       "      <td>1</td>\n",
       "      <td>Icard, Miss. Amelie</td>\n",
       "      <td>female</td>\n",
       "      <td>38.0</td>\n",
       "      <td>0</td>\n",
       "      <td>0</td>\n",
       "      <td>113572</td>\n",
       "      <td>80.0</td>\n",
       "      <td>B28</td>\n",
       "      <td>NaN</td>\n",
       "      <td>Miss</td>\n",
       "      <td>38.0</td>\n",
       "    </tr>\n",
       "    <tr>\n",
       "      <td>830</td>\n",
       "      <td>1</td>\n",
       "      <td>1</td>\n",
       "      <td>Stone, Mrs. George Nelson (Martha Evelyn)</td>\n",
       "      <td>female</td>\n",
       "      <td>62.0</td>\n",
       "      <td>0</td>\n",
       "      <td>0</td>\n",
       "      <td>113572</td>\n",
       "      <td>80.0</td>\n",
       "      <td>B28</td>\n",
       "      <td>NaN</td>\n",
       "      <td>Mrs</td>\n",
       "      <td>62.0</td>\n",
       "    </tr>\n",
       "  </tbody>\n",
       "</table>\n",
       "</div>"
      ],
      "text/plain": [
       "             Survived  Pclass                                       Name  \\\n",
       "PassengerId                                                                \n",
       "62                  1       1                        Icard, Miss. Amelie   \n",
       "830                 1       1  Stone, Mrs. George Nelson (Martha Evelyn)   \n",
       "\n",
       "                Sex   Age  SibSp  Parch  Ticket  Fare Cabin Embarked  \\\n",
       "PassengerId                                                            \n",
       "62           female  38.0      0      0  113572  80.0   B28      NaN   \n",
       "830          female  62.0      0      0  113572  80.0   B28      NaN   \n",
       "\n",
       "            Name_title  Age_clean  \n",
       "PassengerId                        \n",
       "62                Miss       38.0  \n",
       "830                Mrs       62.0  "
      ]
     },
     "execution_count": 76,
     "metadata": {},
     "output_type": "execute_result"
    }
   ],
   "source": [
    "train[pd.isnull(train['Embarked'])]"
   ]
  },
  {
   "cell_type": "code",
   "execution_count": 77,
   "metadata": {},
   "outputs": [
    {
     "data": {
      "text/plain": [
       "S    644\n",
       "C    168\n",
       "Q     77\n",
       "Name: Embarked, dtype: int64"
      ]
     },
     "execution_count": 77,
     "metadata": {},
     "output_type": "execute_result"
    }
   ],
   "source": [
    "train['Embarked'].value_counts()"
   ]
  },
  {
   "cell_type": "markdown",
   "metadata": {},
   "source": [
    "Embarked의 경우 결측값이 2개밖에 없다. 따라서 그냥 가장 많은 개수를 가지고 있는 S로 넣어주면 될 것 같다.  "
   ]
  },
  {
   "cell_type": "code",
   "execution_count": 78,
   "metadata": {},
   "outputs": [],
   "source": [
    "train.loc[pd.isnull(train['Embarked']), 'Embarked'] = 'S'"
   ]
  },
  {
   "cell_type": "markdown",
   "metadata": {},
   "source": [
    "Fare의 결측값은 단순히 전체의 평균값을 줄 수도 있겠지만, 티켓 요금이 사람의 나이대와 관련이 있기 때문에 추후 Age를 범주화한 뒤 Age의 결측값을 채웠던 것과 같은 방식으로 같은 Age 범주의 평균값을 채워주는 것이 더 좋을 것 같다."
   ]
  },
  {
   "cell_type": "code",
   "execution_count": 79,
   "metadata": {},
   "outputs": [
    {
     "data": {
      "text/plain": [
       "Index(['Survived', 'Pclass', 'Name', 'Sex', 'Age', 'SibSp', 'Parch', 'Ticket',\n",
       "       'Fare', 'Cabin', 'Embarked', 'Name_title', 'Age_clean'],\n",
       "      dtype='object')"
      ]
     },
     "execution_count": 79,
     "metadata": {},
     "output_type": "execute_result"
    }
   ],
   "source": [
    "train.columns"
   ]
  },
  {
   "cell_type": "markdown",
   "metadata": {},
   "source": [
    "### 2-3. Fill Fare"
   ]
  },
  {
   "cell_type": "code",
   "execution_count": 80,
   "metadata": {},
   "outputs": [],
   "source": [
    "import numpy as np\n",
    "bins = [0,5,12,18,24,35,60, np.inf]\n",
    "age_group = ['Baby', 'Child', 'Teenager', 'Student', 'Young Adult', 'Adult', 'Senior']\n",
    "\n",
    "train['Age_Group'] = pd.cut(train['Age_clean'], bins, labels = age_group)\n",
    "test['Age_Group'] = pd.cut(test['Age_clean'], bins, labels = age_group)"
   ]
  },
  {
   "cell_type": "markdown",
   "metadata": {},
   "source": [
    "Age를 그룹화 하였으니, 위에서 말한 것처럼 test 데이터의 fare 결측값을 나이 그룹에 따라 부여하도록 하겠다."
   ]
  },
  {
   "cell_type": "code",
   "execution_count": 81,
   "metadata": {},
   "outputs": [
    {
     "data": {
      "text/html": [
       "<div>\n",
       "<style scoped>\n",
       "    .dataframe tbody tr th:only-of-type {\n",
       "        vertical-align: middle;\n",
       "    }\n",
       "\n",
       "    .dataframe tbody tr th {\n",
       "        vertical-align: top;\n",
       "    }\n",
       "\n",
       "    .dataframe thead th {\n",
       "        text-align: right;\n",
       "    }\n",
       "</style>\n",
       "<table border=\"1\" class=\"dataframe\">\n",
       "  <thead>\n",
       "    <tr style=\"text-align: right;\">\n",
       "      <th></th>\n",
       "      <th>Pclass</th>\n",
       "      <th>Name</th>\n",
       "      <th>Sex</th>\n",
       "      <th>Age</th>\n",
       "      <th>SibSp</th>\n",
       "      <th>Parch</th>\n",
       "      <th>Ticket</th>\n",
       "      <th>Fare</th>\n",
       "      <th>Cabin</th>\n",
       "      <th>Embarked</th>\n",
       "      <th>Name_title</th>\n",
       "      <th>Age_clean</th>\n",
       "      <th>Age_Group</th>\n",
       "    </tr>\n",
       "    <tr>\n",
       "      <th>PassengerId</th>\n",
       "      <th></th>\n",
       "      <th></th>\n",
       "      <th></th>\n",
       "      <th></th>\n",
       "      <th></th>\n",
       "      <th></th>\n",
       "      <th></th>\n",
       "      <th></th>\n",
       "      <th></th>\n",
       "      <th></th>\n",
       "      <th></th>\n",
       "      <th></th>\n",
       "      <th></th>\n",
       "    </tr>\n",
       "  </thead>\n",
       "  <tbody>\n",
       "    <tr>\n",
       "      <td>1044</td>\n",
       "      <td>3</td>\n",
       "      <td>Storey, Mr. Thomas</td>\n",
       "      <td>male</td>\n",
       "      <td>60.5</td>\n",
       "      <td>0</td>\n",
       "      <td>0</td>\n",
       "      <td>3701</td>\n",
       "      <td>NaN</td>\n",
       "      <td>NaN</td>\n",
       "      <td>S</td>\n",
       "      <td>Mr</td>\n",
       "      <td>60.5</td>\n",
       "      <td>Senior</td>\n",
       "    </tr>\n",
       "  </tbody>\n",
       "</table>\n",
       "</div>"
      ],
      "text/plain": [
       "             Pclass                Name   Sex   Age  SibSp  Parch Ticket  \\\n",
       "PassengerId                                                                \n",
       "1044              3  Storey, Mr. Thomas  male  60.5      0      0   3701   \n",
       "\n",
       "             Fare Cabin Embarked Name_title  Age_clean Age_Group  \n",
       "PassengerId                                                       \n",
       "1044          NaN   NaN        S         Mr       60.5    Senior  "
      ]
     },
     "execution_count": 81,
     "metadata": {},
     "output_type": "execute_result"
    }
   ],
   "source": [
    "test.loc[pd.isnull(test['Fare'])]"
   ]
  },
  {
   "cell_type": "code",
   "execution_count": 82,
   "metadata": {},
   "outputs": [],
   "source": [
    "test.loc[pd.isnull(test['Fare']), 'Fare'] = test.groupby('Age_Group')['Fare'].mean()['Senior']"
   ]
  },
  {
   "cell_type": "code",
   "execution_count": 83,
   "metadata": {},
   "outputs": [
    {
     "data": {
      "text/html": [
       "<div>\n",
       "<style scoped>\n",
       "    .dataframe tbody tr th:only-of-type {\n",
       "        vertical-align: middle;\n",
       "    }\n",
       "\n",
       "    .dataframe tbody tr th {\n",
       "        vertical-align: top;\n",
       "    }\n",
       "\n",
       "    .dataframe thead th {\n",
       "        text-align: right;\n",
       "    }\n",
       "</style>\n",
       "<table border=\"1\" class=\"dataframe\">\n",
       "  <thead>\n",
       "    <tr style=\"text-align: right;\">\n",
       "      <th></th>\n",
       "      <th>Pclass</th>\n",
       "      <th>Name</th>\n",
       "      <th>Sex</th>\n",
       "      <th>Age</th>\n",
       "      <th>SibSp</th>\n",
       "      <th>Parch</th>\n",
       "      <th>Ticket</th>\n",
       "      <th>Fare</th>\n",
       "      <th>Cabin</th>\n",
       "      <th>Embarked</th>\n",
       "      <th>Name_title</th>\n",
       "      <th>Age_clean</th>\n",
       "      <th>Age_Group</th>\n",
       "    </tr>\n",
       "    <tr>\n",
       "      <th>PassengerId</th>\n",
       "      <th></th>\n",
       "      <th></th>\n",
       "      <th></th>\n",
       "      <th></th>\n",
       "      <th></th>\n",
       "      <th></th>\n",
       "      <th></th>\n",
       "      <th></th>\n",
       "      <th></th>\n",
       "      <th></th>\n",
       "      <th></th>\n",
       "      <th></th>\n",
       "      <th></th>\n",
       "    </tr>\n",
       "  </thead>\n",
       "  <tbody>\n",
       "  </tbody>\n",
       "</table>\n",
       "</div>"
      ],
      "text/plain": [
       "Empty DataFrame\n",
       "Columns: [Pclass, Name, Sex, Age, SibSp, Parch, Ticket, Fare, Cabin, Embarked, Name_title, Age_clean, Age_Group]\n",
       "Index: []"
      ]
     },
     "execution_count": 83,
     "metadata": {},
     "output_type": "execute_result"
    }
   ],
   "source": [
    "test.loc[pd.isnull(test['Fare'])]"
   ]
  },
  {
   "cell_type": "markdown",
   "metadata": {},
   "source": [
    "이제 나이와 항구, 요금의 결측값을 채워주었다. 그럼 기존의 데이터를 가지고 새로운 \"의미있는\" 데이터를 만들어보자!"
   ]
  },
  {
   "cell_type": "markdown",
   "metadata": {
    "toc-hr-collapsed": false
   },
   "source": [
    "## 3. Feature Engineering"
   ]
  },
  {
   "cell_type": "markdown",
   "metadata": {},
   "source": [
    "#### 3-1. Family size"
   ]
  },
  {
   "cell_type": "markdown",
   "metadata": {},
   "source": [
    "위에서 본 바로 Parch, Sibsp의 데이터를 통해 탑승객의 Family size를 유추할 수 있을 것 같다. 따라서 Family Size라는 데이터를 살펴보겠다."
   ]
  },
  {
   "cell_type": "code",
   "execution_count": 84,
   "metadata": {},
   "outputs": [],
   "source": [
    "train['Family_size'] = train['SibSp'] + train['Parch'] + 1\n",
    "test['Family_size'] = test['SibSp'] + test['Parch'] + 1"
   ]
  },
  {
   "cell_type": "code",
   "execution_count": 85,
   "metadata": {},
   "outputs": [
    {
     "data": {
      "text/plain": [
       "<matplotlib.axes._subplots.AxesSubplot at 0x1daa3c6fd08>"
      ]
     },
     "execution_count": 85,
     "metadata": {},
     "output_type": "execute_result"
    },
    {
     "data": {
      "image/png": "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\n",
      "text/plain": [
       "<Figure size 432x288 with 1 Axes>"
      ]
     },
     "metadata": {
      "image/png": {
       "height": 265,
       "width": 375
      },
      "needs_background": "light"
     },
     "output_type": "display_data"
    }
   ],
   "source": [
    "pd.pivot_table(train ,index='Survived', values= 'Name', columns = 'Family_size', aggfunc=len).T.plot.bar(stacked=True)"
   ]
  },
  {
   "cell_type": "markdown",
   "metadata": {},
   "source": [
    "family size 컬럼을 따로 만들어 차트로 확인해보니, 혼자 탑승한 고객보다는 1~3명 정도의 가족과 함께 탑승한 사람들의 생존율이 높았다는 것을 알 수 있다.\n",
    "따라서 family size를 위의 생존율과 연관지어 그룹화를 시킨다면 추후 머신러닝 모델이 더욱 쉽게 구분을 할 수 있을것이다."
   ]
  },
  {
   "cell_type": "code",
   "execution_count": 86,
   "metadata": {},
   "outputs": [],
   "source": [
    "train.loc[train['Family_size']==1, 'Family_size_group'] = 'Alone'\n",
    "train.loc[(train['Family_size']>=2) & (train['Family_size']<5), 'Family_size_group'] = 'Small'\n",
    "train.loc[(train['Family_size']>=5) & (train['Family_size']<7), 'Family_size_group'] = 'Medium'\n",
    "train.loc[train['Family_size']>=7, 'Family_size_group'] = 'Big'"
   ]
  },
  {
   "cell_type": "code",
   "execution_count": 87,
   "metadata": {},
   "outputs": [],
   "source": [
    "test.loc[test['Family_size']==1, 'Family_size_group'] = 'Alone'\n",
    "test.loc[(test['Family_size']>=2) & (test['Family_size']<5), 'Family_size_group'] = 'Small'\n",
    "test.loc[(test['Family_size']>=5) & (test['Family_size']<7), 'Family_size_group'] = 'Medium'\n",
    "test.loc[test['Family_size']>=7, 'Family_size_group'] = 'Big'"
   ]
  },
  {
   "cell_type": "code",
   "execution_count": 88,
   "metadata": {},
   "outputs": [
    {
     "data": {
      "text/plain": [
       "<matplotlib.axes._subplots.AxesSubplot at 0x1daa4d835c8>"
      ]
     },
     "execution_count": 88,
     "metadata": {},
     "output_type": "execute_result"
    },
    {
     "data": {
      "image/png": "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\n",
      "text/plain": [
       "<Figure size 432x288 with 1 Axes>"
      ]
     },
     "metadata": {
      "image/png": {
       "height": 293,
       "width": 375
      },
      "needs_background": "light"
     },
     "output_type": "display_data"
    }
   ],
   "source": [
    "pd.pivot_table(train ,index='Survived', values= 'Name', columns = 'Family_size_group', aggfunc=len).T.plot.bar(stacked=True)"
   ]
  },
  {
   "cell_type": "markdown",
   "metadata": {},
   "source": [
    "#### 3-2. Fare"
   ]
  },
  {
   "cell_type": "code",
   "execution_count": 89,
   "metadata": {},
   "outputs": [
    {
     "name": "stderr",
     "output_type": "stream",
     "text": [
      "C:\\Users\\user\\Anaconda3\\lib\\site-packages\\ipykernel_launcher.py:1: FutureWarning: Sorting because non-concatenation axis is not aligned. A future version\n",
      "of pandas will change to not sort by default.\n",
      "\n",
      "To accept the future behavior, pass 'sort=False'.\n",
      "\n",
      "To retain the current behavior and silence the warning, pass 'sort=True'.\n",
      "\n",
      "  \"\"\"Entry point for launching an IPython kernel.\n"
     ]
    },
    {
     "data": {
      "text/plain": [
       "<matplotlib.axes._subplots.AxesSubplot at 0x1daa50d8188>"
      ]
     },
     "execution_count": 89,
     "metadata": {},
     "output_type": "execute_result"
    },
    {
     "data": {
      "image/png": "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\n",
      "text/plain": [
       "<Figure size 1296x432 with 1 Axes>"
      ]
     },
     "metadata": {
      "image/png": {
       "height": 370,
       "width": 1058
      },
      "needs_background": "light"
     },
     "output_type": "display_data"
    }
   ],
   "source": [
    "titanic = pd.concat([train, test])\n",
    "\n",
    "titanic['Fare'] = pd.qcut(titanic['Fare'], 13) \n",
    "\n",
    "fig, ax = plt.subplots(figsize=(18, 6))\n",
    "sns.countplot(data=titanic, x='Fare', hue='Survived')"
   ]
  },
  {
   "cell_type": "markdown",
   "metadata": {},
   "source": [
    "#### 3-3. Age"
   ]
  },
  {
   "cell_type": "code",
   "execution_count": 90,
   "metadata": {},
   "outputs": [
    {
     "data": {
      "text/plain": [
       "<matplotlib.axes._subplots.AxesSubplot at 0x1daa2743dc8>"
      ]
     },
     "execution_count": 90,
     "metadata": {},
     "output_type": "execute_result"
    },
    {
     "data": {
      "image/png": "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\n",
      "text/plain": [
       "<Figure size 1296x432 with 1 Axes>"
      ]
     },
     "metadata": {
      "image/png": {
       "height": 371,
       "width": 1058
      },
      "needs_background": "light"
     },
     "output_type": "display_data"
    }
   ],
   "source": [
    "titanic['Age_clean'] = pd.qcut(titanic['Age_clean'], 10)\n",
    "\n",
    "fig, ax = plt.subplots(figsize=(18, 6))\n",
    "sns.countplot(data=titanic, x='Age_clean', hue='Survived')"
   ]
  },
  {
   "cell_type": "markdown",
   "metadata": {},
   "source": [
    "#### 3-4. Ticket Frequency"
   ]
  },
  {
   "cell_type": "code",
   "execution_count": 91,
   "metadata": {},
   "outputs": [],
   "source": [
    "titanic['Ticket_Frequency'] = titanic.groupby('Ticket')['Ticket'].transform('count')"
   ]
  },
  {
   "cell_type": "code",
   "execution_count": 92,
   "metadata": {},
   "outputs": [
    {
     "data": {
      "text/plain": [
       "<matplotlib.axes._subplots.AxesSubplot at 0x1daa23f7808>"
      ]
     },
     "execution_count": 92,
     "metadata": {},
     "output_type": "execute_result"
    },
    {
     "data": {
      "image/png": "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\n",
      "text/plain": [
       "<Figure size 864x648 with 1 Axes>"
      ]
     },
     "metadata": {
      "image/png": {
       "height": 534,
       "width": 723
      },
      "needs_background": "light"
     },
     "output_type": "display_data"
    }
   ],
   "source": [
    "fig, axs = plt.subplots(figsize=(12, 9))\n",
    "sns.countplot(x='Ticket_Frequency', hue='Survived', data=titanic)"
   ]
  },
  {
   "cell_type": "markdown",
   "metadata": {},
   "source": [
    "#### 3-5. Is Married?"
   ]
  },
  {
   "cell_type": "code",
   "execution_count": 93,
   "metadata": {},
   "outputs": [
    {
     "data": {
      "text/html": [
       "<div>\n",
       "<style scoped>\n",
       "    .dataframe tbody tr th:only-of-type {\n",
       "        vertical-align: middle;\n",
       "    }\n",
       "\n",
       "    .dataframe tbody tr th {\n",
       "        vertical-align: top;\n",
       "    }\n",
       "\n",
       "    .dataframe thead th {\n",
       "        text-align: right;\n",
       "    }\n",
       "</style>\n",
       "<table border=\"1\" class=\"dataframe\">\n",
       "  <thead>\n",
       "    <tr style=\"text-align: right;\">\n",
       "      <th></th>\n",
       "      <th>Age</th>\n",
       "      <th>Age_Group</th>\n",
       "      <th>Age_clean</th>\n",
       "      <th>Cabin</th>\n",
       "      <th>Embarked</th>\n",
       "      <th>Family_size</th>\n",
       "      <th>Family_size_group</th>\n",
       "      <th>Fare</th>\n",
       "      <th>Name</th>\n",
       "      <th>Name_title</th>\n",
       "      <th>Parch</th>\n",
       "      <th>Pclass</th>\n",
       "      <th>Sex</th>\n",
       "      <th>SibSp</th>\n",
       "      <th>Survived</th>\n",
       "      <th>Ticket</th>\n",
       "      <th>Ticket_Frequency</th>\n",
       "    </tr>\n",
       "    <tr>\n",
       "      <th>PassengerId</th>\n",
       "      <th></th>\n",
       "      <th></th>\n",
       "      <th></th>\n",
       "      <th></th>\n",
       "      <th></th>\n",
       "      <th></th>\n",
       "      <th></th>\n",
       "      <th></th>\n",
       "      <th></th>\n",
       "      <th></th>\n",
       "      <th></th>\n",
       "      <th></th>\n",
       "      <th></th>\n",
       "      <th></th>\n",
       "      <th></th>\n",
       "      <th></th>\n",
       "      <th></th>\n",
       "    </tr>\n",
       "  </thead>\n",
       "  <tbody>\n",
       "    <tr>\n",
       "      <td>1</td>\n",
       "      <td>22.0</td>\n",
       "      <td>Student</td>\n",
       "      <td>(21.0, 23.0]</td>\n",
       "      <td>NaN</td>\n",
       "      <td>S</td>\n",
       "      <td>2</td>\n",
       "      <td>Small</td>\n",
       "      <td>(-0.001, 7.25]</td>\n",
       "      <td>Braund, Mr. Owen Harris</td>\n",
       "      <td>Mr</td>\n",
       "      <td>0</td>\n",
       "      <td>3</td>\n",
       "      <td>male</td>\n",
       "      <td>1</td>\n",
       "      <td>0.0</td>\n",
       "      <td>A/5 21171</td>\n",
       "      <td>1</td>\n",
       "    </tr>\n",
       "  </tbody>\n",
       "</table>\n",
       "</div>"
      ],
      "text/plain": [
       "              Age Age_Group     Age_clean Cabin Embarked  Family_size  \\\n",
       "PassengerId                                                             \n",
       "1            22.0   Student  (21.0, 23.0]   NaN        S            2   \n",
       "\n",
       "            Family_size_group            Fare                     Name  \\\n",
       "PassengerId                                                              \n",
       "1                       Small  (-0.001, 7.25]  Braund, Mr. Owen Harris   \n",
       "\n",
       "            Name_title  Parch  Pclass   Sex  SibSp  Survived     Ticket  \\\n",
       "PassengerId                                                               \n",
       "1                   Mr      0       3  male      1       0.0  A/5 21171   \n",
       "\n",
       "             Ticket_Frequency  \n",
       "PassengerId                    \n",
       "1                           1  "
      ]
     },
     "execution_count": 93,
     "metadata": {},
     "output_type": "execute_result"
    }
   ],
   "source": [
    "titanic.head(1)"
   ]
  },
  {
   "cell_type": "code",
   "execution_count": 94,
   "metadata": {},
   "outputs": [
    {
     "data": {
      "text/html": [
       "<div>\n",
       "<style scoped>\n",
       "    .dataframe tbody tr th:only-of-type {\n",
       "        vertical-align: middle;\n",
       "    }\n",
       "\n",
       "    .dataframe tbody tr th {\n",
       "        vertical-align: top;\n",
       "    }\n",
       "\n",
       "    .dataframe thead th {\n",
       "        text-align: right;\n",
       "    }\n",
       "</style>\n",
       "<table border=\"1\" class=\"dataframe\">\n",
       "  <thead>\n",
       "    <tr style=\"text-align: right;\">\n",
       "      <th></th>\n",
       "      <th>Age</th>\n",
       "      <th>Age_Group</th>\n",
       "      <th>Age_clean</th>\n",
       "      <th>Cabin</th>\n",
       "      <th>Embarked</th>\n",
       "      <th>Family_size</th>\n",
       "      <th>Family_size_group</th>\n",
       "      <th>Fare</th>\n",
       "      <th>Name</th>\n",
       "      <th>Name_title</th>\n",
       "      <th>Parch</th>\n",
       "      <th>Pclass</th>\n",
       "      <th>Sex</th>\n",
       "      <th>SibSp</th>\n",
       "      <th>Survived</th>\n",
       "      <th>Ticket</th>\n",
       "      <th>Ticket_Frequency</th>\n",
       "      <th>Married</th>\n",
       "    </tr>\n",
       "    <tr>\n",
       "      <th>PassengerId</th>\n",
       "      <th></th>\n",
       "      <th></th>\n",
       "      <th></th>\n",
       "      <th></th>\n",
       "      <th></th>\n",
       "      <th></th>\n",
       "      <th></th>\n",
       "      <th></th>\n",
       "      <th></th>\n",
       "      <th></th>\n",
       "      <th></th>\n",
       "      <th></th>\n",
       "      <th></th>\n",
       "      <th></th>\n",
       "      <th></th>\n",
       "      <th></th>\n",
       "      <th></th>\n",
       "      <th></th>\n",
       "    </tr>\n",
       "  </thead>\n",
       "  <tbody>\n",
       "    <tr>\n",
       "      <td>1</td>\n",
       "      <td>22.0</td>\n",
       "      <td>Student</td>\n",
       "      <td>(21.0, 23.0]</td>\n",
       "      <td>NaN</td>\n",
       "      <td>S</td>\n",
       "      <td>2</td>\n",
       "      <td>Small</td>\n",
       "      <td>(-0.001, 7.25]</td>\n",
       "      <td>Braund, Mr. Owen Harris</td>\n",
       "      <td>Mr</td>\n",
       "      <td>0</td>\n",
       "      <td>3</td>\n",
       "      <td>male</td>\n",
       "      <td>1</td>\n",
       "      <td>0.0</td>\n",
       "      <td>A/5 21171</td>\n",
       "      <td>1</td>\n",
       "      <td>0</td>\n",
       "    </tr>\n",
       "    <tr>\n",
       "      <td>2</td>\n",
       "      <td>38.0</td>\n",
       "      <td>Adult</td>\n",
       "      <td>(33.0, 39.0]</td>\n",
       "      <td>C85</td>\n",
       "      <td>C</td>\n",
       "      <td>2</td>\n",
       "      <td>Small</td>\n",
       "      <td>(56.496, 84.638]</td>\n",
       "      <td>Cumings, Mrs. John Bradley (Florence Briggs Th...</td>\n",
       "      <td>Mrs</td>\n",
       "      <td>0</td>\n",
       "      <td>1</td>\n",
       "      <td>female</td>\n",
       "      <td>1</td>\n",
       "      <td>1.0</td>\n",
       "      <td>PC 17599</td>\n",
       "      <td>2</td>\n",
       "      <td>1</td>\n",
       "    </tr>\n",
       "    <tr>\n",
       "      <td>3</td>\n",
       "      <td>26.0</td>\n",
       "      <td>Young Adult</td>\n",
       "      <td>(23.0, 26.0]</td>\n",
       "      <td>NaN</td>\n",
       "      <td>S</td>\n",
       "      <td>1</td>\n",
       "      <td>Alone</td>\n",
       "      <td>(7.896, 8.05]</td>\n",
       "      <td>Heikkinen, Miss. Laina</td>\n",
       "      <td>Miss</td>\n",
       "      <td>0</td>\n",
       "      <td>3</td>\n",
       "      <td>female</td>\n",
       "      <td>0</td>\n",
       "      <td>1.0</td>\n",
       "      <td>STON/O2. 3101282</td>\n",
       "      <td>1</td>\n",
       "      <td>0</td>\n",
       "    </tr>\n",
       "    <tr>\n",
       "      <td>4</td>\n",
       "      <td>35.0</td>\n",
       "      <td>Young Adult</td>\n",
       "      <td>(33.0, 39.0]</td>\n",
       "      <td>C123</td>\n",
       "      <td>S</td>\n",
       "      <td>2</td>\n",
       "      <td>Small</td>\n",
       "      <td>(34.375, 56.496]</td>\n",
       "      <td>Futrelle, Mrs. Jacques Heath (Lily May Peel)</td>\n",
       "      <td>Mrs</td>\n",
       "      <td>0</td>\n",
       "      <td>1</td>\n",
       "      <td>female</td>\n",
       "      <td>1</td>\n",
       "      <td>1.0</td>\n",
       "      <td>113803</td>\n",
       "      <td>2</td>\n",
       "      <td>1</td>\n",
       "    </tr>\n",
       "    <tr>\n",
       "      <td>5</td>\n",
       "      <td>35.0</td>\n",
       "      <td>Young Adult</td>\n",
       "      <td>(33.0, 39.0]</td>\n",
       "      <td>NaN</td>\n",
       "      <td>S</td>\n",
       "      <td>1</td>\n",
       "      <td>Alone</td>\n",
       "      <td>(7.896, 8.05]</td>\n",
       "      <td>Allen, Mr. William Henry</td>\n",
       "      <td>Mr</td>\n",
       "      <td>0</td>\n",
       "      <td>3</td>\n",
       "      <td>male</td>\n",
       "      <td>0</td>\n",
       "      <td>0.0</td>\n",
       "      <td>373450</td>\n",
       "      <td>1</td>\n",
       "      <td>0</td>\n",
       "    </tr>\n",
       "  </tbody>\n",
       "</table>\n",
       "</div>"
      ],
      "text/plain": [
       "              Age    Age_Group     Age_clean Cabin Embarked  Family_size  \\\n",
       "PassengerId                                                                \n",
       "1            22.0      Student  (21.0, 23.0]   NaN        S            2   \n",
       "2            38.0        Adult  (33.0, 39.0]   C85        C            2   \n",
       "3            26.0  Young Adult  (23.0, 26.0]   NaN        S            1   \n",
       "4            35.0  Young Adult  (33.0, 39.0]  C123        S            2   \n",
       "5            35.0  Young Adult  (33.0, 39.0]   NaN        S            1   \n",
       "\n",
       "            Family_size_group              Fare  \\\n",
       "PassengerId                                       \n",
       "1                       Small    (-0.001, 7.25]   \n",
       "2                       Small  (56.496, 84.638]   \n",
       "3                       Alone     (7.896, 8.05]   \n",
       "4                       Small  (34.375, 56.496]   \n",
       "5                       Alone     (7.896, 8.05]   \n",
       "\n",
       "                                                          Name Name_title  \\\n",
       "PassengerId                                                                 \n",
       "1                                      Braund, Mr. Owen Harris         Mr   \n",
       "2            Cumings, Mrs. John Bradley (Florence Briggs Th...        Mrs   \n",
       "3                                       Heikkinen, Miss. Laina       Miss   \n",
       "4                 Futrelle, Mrs. Jacques Heath (Lily May Peel)        Mrs   \n",
       "5                                     Allen, Mr. William Henry         Mr   \n",
       "\n",
       "             Parch  Pclass     Sex  SibSp  Survived            Ticket  \\\n",
       "PassengerId                                                             \n",
       "1                0       3    male      1       0.0         A/5 21171   \n",
       "2                0       1  female      1       1.0          PC 17599   \n",
       "3                0       3  female      0       1.0  STON/O2. 3101282   \n",
       "4                0       1  female      1       1.0            113803   \n",
       "5                0       3    male      0       0.0            373450   \n",
       "\n",
       "             Ticket_Frequency  Married  \n",
       "PassengerId                             \n",
       "1                           1        0  \n",
       "2                           2        1  \n",
       "3                           1        0  \n",
       "4                           2        1  \n",
       "5                           1        0  "
      ]
     },
     "execution_count": 94,
     "metadata": {},
     "output_type": "execute_result"
    }
   ],
   "source": [
    "titanic['Married'] = 0\n",
    "titanic.loc[titanic['Name_title']=='Mrs', 'Married'] = 1\n",
    "titanic.head()"
   ]
  },
  {
   "cell_type": "markdown",
   "metadata": {},
   "source": [
    "#### 3-6. Cabin"
   ]
  },
  {
   "cell_type": "code",
   "execution_count": 95,
   "metadata": {},
   "outputs": [],
   "source": [
    "def extract_deck(c):\n",
    "    if pd.isnull(c):\n",
    "        return np.nan\n",
    "    return c[0]\n",
    "\n",
    "titanic['Deck'] = titanic['Cabin'].apply(extract_deck)"
   ]
  },
  {
   "cell_type": "code",
   "execution_count": 96,
   "metadata": {},
   "outputs": [
    {
     "data": {
      "text/plain": [
       "<matplotlib.axes._subplots.AxesSubplot at 0x1daa1300e08>"
      ]
     },
     "execution_count": 96,
     "metadata": {},
     "output_type": "execute_result"
    },
    {
     "data": {
      "image/png": "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\n",
      "text/plain": [
       "<Figure size 432x288 with 1 Axes>"
      ]
     },
     "metadata": {
      "image/png": {
       "height": 261,
       "width": 382
      },
      "needs_background": "light"
     },
     "output_type": "display_data"
    }
   ],
   "source": [
    "sns.countplot(data=titanic, x='Deck', order=['A','B','C','D','E','F','G','U','T'])"
   ]
  },
  {
   "cell_type": "code",
   "execution_count": 97,
   "metadata": {},
   "outputs": [],
   "source": [
    "# 'M' means missing\n",
    "titanic.loc[titanic['Deck'].isnull(), 'Deck'] = 'M'"
   ]
  },
  {
   "cell_type": "code",
   "execution_count": 98,
   "metadata": {},
   "outputs": [
    {
     "data": {
      "text/plain": [
       "<matplotlib.axes._subplots.AxesSubplot at 0x1daa1351208>"
      ]
     },
     "execution_count": 98,
     "metadata": {},
     "output_type": "execute_result"
    },
    {
     "data": {
      "image/png": "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\n",
      "text/plain": [
       "<Figure size 432x288 with 1 Axes>"
      ]
     },
     "metadata": {
      "image/png": {
       "height": 261,
       "width": 381
      },
      "needs_background": "light"
     },
     "output_type": "display_data"
    }
   ],
   "source": [
    "deck_pclass = pd.pivot_table(data= titanic, index= 'Pclass', values='Ticket', columns='Deck', aggfunc= len).T\n",
    "deck_pclass.plot.bar(stacked=True)"
   ]
  },
  {
   "cell_type": "code",
   "execution_count": 99,
   "metadata": {},
   "outputs": [],
   "source": [
    "# 'T' == 'A'\n",
    "titanic.loc[titanic['Deck'] == 'T', 'Deck'] = 'A'"
   ]
  },
  {
   "cell_type": "code",
   "execution_count": 100,
   "metadata": {},
   "outputs": [
    {
     "data": {
      "text/plain": [
       "<matplotlib.axes._subplots.AxesSubplot at 0x1daa2fe1d48>"
      ]
     },
     "execution_count": 100,
     "metadata": {},
     "output_type": "execute_result"
    },
    {
     "data": {
      "image/png": "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\n",
      "text/plain": [
       "<Figure size 432x288 with 1 Axes>"
      ]
     },
     "metadata": {
      "image/png": {
       "height": 263,
       "width": 388
      },
      "needs_background": "light"
     },
     "output_type": "display_data"
    }
   ],
   "source": [
    "sns.countplot(data = titanic, x='Deck', hue='Survived')"
   ]
  },
  {
   "cell_type": "code",
   "execution_count": 101,
   "metadata": {},
   "outputs": [],
   "source": [
    "titanic['Deck'] = titanic['Deck'].replace(['A','B','C'], 'ABC')\n",
    "titanic['Deck'] = titanic['Deck'].replace(['D','E'], 'DE')\n",
    "titanic['Deck'] = titanic['Deck'].replace(['F','G'], 'FG')"
   ]
  },
  {
   "cell_type": "markdown",
   "metadata": {},
   "source": [
    "#### 3-7. Family survival rate - Pending"
   ]
  },
  {
   "cell_type": "code",
   "execution_count": 109,
   "metadata": {},
   "outputs": [],
   "source": [
    "# 그룹 아이디 만들기\n",
    "def get_surname(name):\n",
    "    surname = name.split(',')[0]\n",
    "    return surname\n",
    "\n",
    "def get_TicketNum(ticket):\n",
    "    ticket = ticket.replace(ticket[-1], 'X')\n",
    "    return ticket\n",
    "\n",
    "train['Surname'] = train['Name'].apply(get_surname)"
   ]
  },
  {
   "cell_type": "code",
   "execution_count": 110,
   "metadata": {},
   "outputs": [],
   "source": [
    "# train['GroupID'] = train['Pclass'].astype(str) + train['Surname'] + train['Ticket_num'] + train['Embarked']"
   ]
  },
  {
   "cell_type": "code",
   "execution_count": 114,
   "metadata": {},
   "outputs": [
    {
     "data": {
      "text/html": [
       "<div>\n",
       "<style scoped>\n",
       "    .dataframe tbody tr th:only-of-type {\n",
       "        vertical-align: middle;\n",
       "    }\n",
       "\n",
       "    .dataframe tbody tr th {\n",
       "        vertical-align: top;\n",
       "    }\n",
       "\n",
       "    .dataframe thead th {\n",
       "        text-align: right;\n",
       "    }\n",
       "</style>\n",
       "<table border=\"1\" class=\"dataframe\">\n",
       "  <thead>\n",
       "    <tr style=\"text-align: right;\">\n",
       "      <th></th>\n",
       "      <th>Survived</th>\n",
       "      <th>Pclass</th>\n",
       "      <th>Name</th>\n",
       "      <th>Sex</th>\n",
       "      <th>Age</th>\n",
       "      <th>SibSp</th>\n",
       "      <th>Parch</th>\n",
       "      <th>Ticket</th>\n",
       "      <th>Fare</th>\n",
       "      <th>Cabin</th>\n",
       "      <th>Embarked</th>\n",
       "      <th>Name_title</th>\n",
       "      <th>Age_clean</th>\n",
       "      <th>Age_Group</th>\n",
       "      <th>Family_size</th>\n",
       "      <th>Family_size_group</th>\n",
       "      <th>Surname</th>\n",
       "    </tr>\n",
       "    <tr>\n",
       "      <th>PassengerId</th>\n",
       "      <th></th>\n",
       "      <th></th>\n",
       "      <th></th>\n",
       "      <th></th>\n",
       "      <th></th>\n",
       "      <th></th>\n",
       "      <th></th>\n",
       "      <th></th>\n",
       "      <th></th>\n",
       "      <th></th>\n",
       "      <th></th>\n",
       "      <th></th>\n",
       "      <th></th>\n",
       "      <th></th>\n",
       "      <th></th>\n",
       "      <th></th>\n",
       "      <th></th>\n",
       "    </tr>\n",
       "  </thead>\n",
       "  <tbody>\n",
       "    <tr>\n",
       "      <td>306</td>\n",
       "      <td>1</td>\n",
       "      <td>1</td>\n",
       "      <td>Allison, Master. Hudson Trevor</td>\n",
       "      <td>male</td>\n",
       "      <td>0.92</td>\n",
       "      <td>1</td>\n",
       "      <td>2</td>\n",
       "      <td>113781</td>\n",
       "      <td>151.5500</td>\n",
       "      <td>C22 C26</td>\n",
       "      <td>S</td>\n",
       "      <td>Master</td>\n",
       "      <td>0.92</td>\n",
       "      <td>Baby</td>\n",
       "      <td>4</td>\n",
       "      <td>Small</td>\n",
       "      <td>Allison</td>\n",
       "    </tr>\n",
       "    <tr>\n",
       "      <td>851</td>\n",
       "      <td>0</td>\n",
       "      <td>3</td>\n",
       "      <td>Andersson, Master. Sigvard Harald Elias</td>\n",
       "      <td>male</td>\n",
       "      <td>4.00</td>\n",
       "      <td>4</td>\n",
       "      <td>2</td>\n",
       "      <td>347082</td>\n",
       "      <td>31.2750</td>\n",
       "      <td>NaN</td>\n",
       "      <td>S</td>\n",
       "      <td>Master</td>\n",
       "      <td>4.00</td>\n",
       "      <td>Baby</td>\n",
       "      <td>7</td>\n",
       "      <td>Big</td>\n",
       "      <td>Andersson</td>\n",
       "    </tr>\n",
       "    <tr>\n",
       "      <td>262</td>\n",
       "      <td>1</td>\n",
       "      <td>3</td>\n",
       "      <td>Asplund, Master. Edvin Rojj Felix</td>\n",
       "      <td>male</td>\n",
       "      <td>3.00</td>\n",
       "      <td>4</td>\n",
       "      <td>2</td>\n",
       "      <td>347077</td>\n",
       "      <td>31.3875</td>\n",
       "      <td>NaN</td>\n",
       "      <td>S</td>\n",
       "      <td>Master</td>\n",
       "      <td>3.00</td>\n",
       "      <td>Baby</td>\n",
       "      <td>7</td>\n",
       "      <td>Big</td>\n",
       "      <td>Asplund</td>\n",
       "    </tr>\n",
       "    <tr>\n",
       "      <td>183</td>\n",
       "      <td>0</td>\n",
       "      <td>3</td>\n",
       "      <td>Asplund, Master. Clarence Gustaf Hugo</td>\n",
       "      <td>male</td>\n",
       "      <td>9.00</td>\n",
       "      <td>4</td>\n",
       "      <td>2</td>\n",
       "      <td>347077</td>\n",
       "      <td>31.3875</td>\n",
       "      <td>NaN</td>\n",
       "      <td>S</td>\n",
       "      <td>Master</td>\n",
       "      <td>9.00</td>\n",
       "      <td>Child</td>\n",
       "      <td>7</td>\n",
       "      <td>Big</td>\n",
       "      <td>Asplund</td>\n",
       "    </tr>\n",
       "    <tr>\n",
       "      <td>184</td>\n",
       "      <td>1</td>\n",
       "      <td>2</td>\n",
       "      <td>Becker, Master. Richard F</td>\n",
       "      <td>male</td>\n",
       "      <td>1.00</td>\n",
       "      <td>2</td>\n",
       "      <td>1</td>\n",
       "      <td>230136</td>\n",
       "      <td>39.0000</td>\n",
       "      <td>F4</td>\n",
       "      <td>S</td>\n",
       "      <td>Master</td>\n",
       "      <td>1.00</td>\n",
       "      <td>Baby</td>\n",
       "      <td>4</td>\n",
       "      <td>Small</td>\n",
       "      <td>Becker</td>\n",
       "    </tr>\n",
       "    <tr>\n",
       "      <td>79</td>\n",
       "      <td>1</td>\n",
       "      <td>2</td>\n",
       "      <td>Caldwell, Master. Alden Gates</td>\n",
       "      <td>male</td>\n",
       "      <td>0.83</td>\n",
       "      <td>0</td>\n",
       "      <td>2</td>\n",
       "      <td>248738</td>\n",
       "      <td>29.0000</td>\n",
       "      <td>NaN</td>\n",
       "      <td>S</td>\n",
       "      <td>Master</td>\n",
       "      <td>0.83</td>\n",
       "      <td>Baby</td>\n",
       "      <td>3</td>\n",
       "      <td>Small</td>\n",
       "      <td>Caldwell</td>\n",
       "    </tr>\n",
       "    <tr>\n",
       "      <td>803</td>\n",
       "      <td>1</td>\n",
       "      <td>1</td>\n",
       "      <td>Carter, Master. William Thornton II</td>\n",
       "      <td>male</td>\n",
       "      <td>11.00</td>\n",
       "      <td>1</td>\n",
       "      <td>2</td>\n",
       "      <td>113760</td>\n",
       "      <td>120.0000</td>\n",
       "      <td>B96 B98</td>\n",
       "      <td>S</td>\n",
       "      <td>Master</td>\n",
       "      <td>11.00</td>\n",
       "      <td>Child</td>\n",
       "      <td>4</td>\n",
       "      <td>Small</td>\n",
       "      <td>Carter</td>\n",
       "    </tr>\n",
       "    <tr>\n",
       "      <td>349</td>\n",
       "      <td>1</td>\n",
       "      <td>3</td>\n",
       "      <td>Coutts, Master. William Loch \"William\"</td>\n",
       "      <td>male</td>\n",
       "      <td>3.00</td>\n",
       "      <td>1</td>\n",
       "      <td>1</td>\n",
       "      <td>C.A. 37671</td>\n",
       "      <td>15.9000</td>\n",
       "      <td>NaN</td>\n",
       "      <td>S</td>\n",
       "      <td>Master</td>\n",
       "      <td>3.00</td>\n",
       "      <td>Baby</td>\n",
       "      <td>3</td>\n",
       "      <td>Small</td>\n",
       "      <td>Coutts</td>\n",
       "    </tr>\n",
       "    <tr>\n",
       "      <td>490</td>\n",
       "      <td>1</td>\n",
       "      <td>3</td>\n",
       "      <td>Coutts, Master. Eden Leslie \"Neville\"</td>\n",
       "      <td>male</td>\n",
       "      <td>9.00</td>\n",
       "      <td>1</td>\n",
       "      <td>1</td>\n",
       "      <td>C.A. 37671</td>\n",
       "      <td>15.9000</td>\n",
       "      <td>NaN</td>\n",
       "      <td>S</td>\n",
       "      <td>Master</td>\n",
       "      <td>9.00</td>\n",
       "      <td>Child</td>\n",
       "      <td>3</td>\n",
       "      <td>Small</td>\n",
       "      <td>Coutts</td>\n",
       "    </tr>\n",
       "    <tr>\n",
       "      <td>550</td>\n",
       "      <td>1</td>\n",
       "      <td>2</td>\n",
       "      <td>Davies, Master. John Morgan Jr</td>\n",
       "      <td>male</td>\n",
       "      <td>8.00</td>\n",
       "      <td>1</td>\n",
       "      <td>1</td>\n",
       "      <td>C.A. 33112</td>\n",
       "      <td>36.7500</td>\n",
       "      <td>NaN</td>\n",
       "      <td>S</td>\n",
       "      <td>Master</td>\n",
       "      <td>8.00</td>\n",
       "      <td>Child</td>\n",
       "      <td>3</td>\n",
       "      <td>Small</td>\n",
       "      <td>Davies</td>\n",
       "    </tr>\n",
       "    <tr>\n",
       "      <td>789</td>\n",
       "      <td>1</td>\n",
       "      <td>3</td>\n",
       "      <td>Dean, Master. Bertram Vere</td>\n",
       "      <td>male</td>\n",
       "      <td>1.00</td>\n",
       "      <td>1</td>\n",
       "      <td>2</td>\n",
       "      <td>C.A. 2315</td>\n",
       "      <td>20.5750</td>\n",
       "      <td>NaN</td>\n",
       "      <td>S</td>\n",
       "      <td>Master</td>\n",
       "      <td>1.00</td>\n",
       "      <td>Baby</td>\n",
       "      <td>4</td>\n",
       "      <td>Small</td>\n",
       "      <td>Dean</td>\n",
       "    </tr>\n",
       "    <tr>\n",
       "      <td>446</td>\n",
       "      <td>1</td>\n",
       "      <td>1</td>\n",
       "      <td>Dodge, Master. Washington</td>\n",
       "      <td>male</td>\n",
       "      <td>4.00</td>\n",
       "      <td>0</td>\n",
       "      <td>2</td>\n",
       "      <td>33638</td>\n",
       "      <td>81.8583</td>\n",
       "      <td>A34</td>\n",
       "      <td>S</td>\n",
       "      <td>Master</td>\n",
       "      <td>4.00</td>\n",
       "      <td>Baby</td>\n",
       "      <td>3</td>\n",
       "      <td>Small</td>\n",
       "      <td>Dodge</td>\n",
       "    </tr>\n",
       "    <tr>\n",
       "      <td>166</td>\n",
       "      <td>1</td>\n",
       "      <td>3</td>\n",
       "      <td>Goldsmith, Master. Frank John William \"Frankie\"</td>\n",
       "      <td>male</td>\n",
       "      <td>9.00</td>\n",
       "      <td>0</td>\n",
       "      <td>2</td>\n",
       "      <td>363291</td>\n",
       "      <td>20.5250</td>\n",
       "      <td>NaN</td>\n",
       "      <td>S</td>\n",
       "      <td>Master</td>\n",
       "      <td>9.00</td>\n",
       "      <td>Child</td>\n",
       "      <td>3</td>\n",
       "      <td>Small</td>\n",
       "      <td>Goldsmith</td>\n",
       "    </tr>\n",
       "    <tr>\n",
       "      <td>481</td>\n",
       "      <td>0</td>\n",
       "      <td>3</td>\n",
       "      <td>Goodwin, Master. Harold Victor</td>\n",
       "      <td>male</td>\n",
       "      <td>9.00</td>\n",
       "      <td>5</td>\n",
       "      <td>2</td>\n",
       "      <td>CA 2144</td>\n",
       "      <td>46.9000</td>\n",
       "      <td>NaN</td>\n",
       "      <td>S</td>\n",
       "      <td>Master</td>\n",
       "      <td>9.00</td>\n",
       "      <td>Child</td>\n",
       "      <td>8</td>\n",
       "      <td>Big</td>\n",
       "      <td>Goodwin</td>\n",
       "    </tr>\n",
       "    <tr>\n",
       "      <td>60</td>\n",
       "      <td>0</td>\n",
       "      <td>3</td>\n",
       "      <td>Goodwin, Master. William Frederick</td>\n",
       "      <td>male</td>\n",
       "      <td>11.00</td>\n",
       "      <td>5</td>\n",
       "      <td>2</td>\n",
       "      <td>CA 2144</td>\n",
       "      <td>46.9000</td>\n",
       "      <td>NaN</td>\n",
       "      <td>S</td>\n",
       "      <td>Master</td>\n",
       "      <td>11.00</td>\n",
       "      <td>Child</td>\n",
       "      <td>8</td>\n",
       "      <td>Big</td>\n",
       "      <td>Goodwin</td>\n",
       "    </tr>\n",
       "    <tr>\n",
       "      <td>387</td>\n",
       "      <td>0</td>\n",
       "      <td>3</td>\n",
       "      <td>Goodwin, Master. Sidney Leonard</td>\n",
       "      <td>male</td>\n",
       "      <td>1.00</td>\n",
       "      <td>5</td>\n",
       "      <td>2</td>\n",
       "      <td>CA 2144</td>\n",
       "      <td>46.9000</td>\n",
       "      <td>NaN</td>\n",
       "      <td>S</td>\n",
       "      <td>Master</td>\n",
       "      <td>1.00</td>\n",
       "      <td>Baby</td>\n",
       "      <td>8</td>\n",
       "      <td>Big</td>\n",
       "      <td>Goodwin</td>\n",
       "    </tr>\n",
       "    <tr>\n",
       "      <td>756</td>\n",
       "      <td>1</td>\n",
       "      <td>2</td>\n",
       "      <td>Hamalainen, Master. Viljo</td>\n",
       "      <td>male</td>\n",
       "      <td>0.67</td>\n",
       "      <td>1</td>\n",
       "      <td>1</td>\n",
       "      <td>250649</td>\n",
       "      <td>14.5000</td>\n",
       "      <td>NaN</td>\n",
       "      <td>S</td>\n",
       "      <td>Master</td>\n",
       "      <td>0.67</td>\n",
       "      <td>Baby</td>\n",
       "      <td>3</td>\n",
       "      <td>Small</td>\n",
       "      <td>Hamalainen</td>\n",
       "    </tr>\n",
       "    <tr>\n",
       "      <td>870</td>\n",
       "      <td>1</td>\n",
       "      <td>3</td>\n",
       "      <td>Johnson, Master. Harold Theodor</td>\n",
       "      <td>male</td>\n",
       "      <td>4.00</td>\n",
       "      <td>1</td>\n",
       "      <td>1</td>\n",
       "      <td>347742</td>\n",
       "      <td>11.1333</td>\n",
       "      <td>NaN</td>\n",
       "      <td>S</td>\n",
       "      <td>Master</td>\n",
       "      <td>4.00</td>\n",
       "      <td>Baby</td>\n",
       "      <td>3</td>\n",
       "      <td>Small</td>\n",
       "      <td>Johnson</td>\n",
       "    </tr>\n",
       "    <tr>\n",
       "      <td>177</td>\n",
       "      <td>0</td>\n",
       "      <td>3</td>\n",
       "      <td>Lefebre, Master. Henry Forbes</td>\n",
       "      <td>male</td>\n",
       "      <td>NaN</td>\n",
       "      <td>3</td>\n",
       "      <td>1</td>\n",
       "      <td>4133</td>\n",
       "      <td>25.4667</td>\n",
       "      <td>NaN</td>\n",
       "      <td>S</td>\n",
       "      <td>Master</td>\n",
       "      <td>5.00</td>\n",
       "      <td>Baby</td>\n",
       "      <td>5</td>\n",
       "      <td>Medium</td>\n",
       "      <td>Lefebre</td>\n",
       "    </tr>\n",
       "    <tr>\n",
       "      <td>828</td>\n",
       "      <td>1</td>\n",
       "      <td>2</td>\n",
       "      <td>Mallet, Master. Andre</td>\n",
       "      <td>male</td>\n",
       "      <td>1.00</td>\n",
       "      <td>0</td>\n",
       "      <td>2</td>\n",
       "      <td>S.C./PARIS 2079</td>\n",
       "      <td>37.0042</td>\n",
       "      <td>NaN</td>\n",
       "      <td>C</td>\n",
       "      <td>Master</td>\n",
       "      <td>1.00</td>\n",
       "      <td>Baby</td>\n",
       "      <td>3</td>\n",
       "      <td>Small</td>\n",
       "      <td>Mallet</td>\n",
       "    </tr>\n",
       "    <tr>\n",
       "      <td>752</td>\n",
       "      <td>1</td>\n",
       "      <td>3</td>\n",
       "      <td>Moor, Master. Meier</td>\n",
       "      <td>male</td>\n",
       "      <td>6.00</td>\n",
       "      <td>0</td>\n",
       "      <td>1</td>\n",
       "      <td>392096</td>\n",
       "      <td>12.4750</td>\n",
       "      <td>E121</td>\n",
       "      <td>S</td>\n",
       "      <td>Master</td>\n",
       "      <td>6.00</td>\n",
       "      <td>Child</td>\n",
       "      <td>2</td>\n",
       "      <td>Small</td>\n",
       "      <td>Moor</td>\n",
       "    </tr>\n",
       "    <tr>\n",
       "      <td>710</td>\n",
       "      <td>1</td>\n",
       "      <td>3</td>\n",
       "      <td>Moubarek, Master. Halim Gonios (\"William George\")</td>\n",
       "      <td>male</td>\n",
       "      <td>NaN</td>\n",
       "      <td>1</td>\n",
       "      <td>1</td>\n",
       "      <td>2661</td>\n",
       "      <td>15.2458</td>\n",
       "      <td>NaN</td>\n",
       "      <td>C</td>\n",
       "      <td>Master</td>\n",
       "      <td>5.00</td>\n",
       "      <td>Baby</td>\n",
       "      <td>3</td>\n",
       "      <td>Small</td>\n",
       "      <td>Moubarek</td>\n",
       "    </tr>\n",
       "    <tr>\n",
       "      <td>66</td>\n",
       "      <td>1</td>\n",
       "      <td>3</td>\n",
       "      <td>Moubarek, Master. Gerios</td>\n",
       "      <td>male</td>\n",
       "      <td>NaN</td>\n",
       "      <td>1</td>\n",
       "      <td>1</td>\n",
       "      <td>2661</td>\n",
       "      <td>15.2458</td>\n",
       "      <td>NaN</td>\n",
       "      <td>C</td>\n",
       "      <td>Master</td>\n",
       "      <td>5.00</td>\n",
       "      <td>Baby</td>\n",
       "      <td>3</td>\n",
       "      <td>Small</td>\n",
       "      <td>Moubarek</td>\n",
       "    </tr>\n",
       "    <tr>\n",
       "      <td>341</td>\n",
       "      <td>1</td>\n",
       "      <td>2</td>\n",
       "      <td>Navratil, Master. Edmond Roger</td>\n",
       "      <td>male</td>\n",
       "      <td>2.00</td>\n",
       "      <td>1</td>\n",
       "      <td>1</td>\n",
       "      <td>230080</td>\n",
       "      <td>26.0000</td>\n",
       "      <td>F2</td>\n",
       "      <td>S</td>\n",
       "      <td>Master</td>\n",
       "      <td>2.00</td>\n",
       "      <td>Baby</td>\n",
       "      <td>3</td>\n",
       "      <td>Small</td>\n",
       "      <td>Navratil</td>\n",
       "    </tr>\n",
       "    <tr>\n",
       "      <td>194</td>\n",
       "      <td>1</td>\n",
       "      <td>2</td>\n",
       "      <td>Navratil, Master. Michel M</td>\n",
       "      <td>male</td>\n",
       "      <td>3.00</td>\n",
       "      <td>1</td>\n",
       "      <td>1</td>\n",
       "      <td>230080</td>\n",
       "      <td>26.0000</td>\n",
       "      <td>F2</td>\n",
       "      <td>S</td>\n",
       "      <td>Master</td>\n",
       "      <td>3.00</td>\n",
       "      <td>Baby</td>\n",
       "      <td>3</td>\n",
       "      <td>Small</td>\n",
       "      <td>Navratil</td>\n",
       "    </tr>\n",
       "    <tr>\n",
       "      <td>126</td>\n",
       "      <td>1</td>\n",
       "      <td>3</td>\n",
       "      <td>Nicola-Yarred, Master. Elias</td>\n",
       "      <td>male</td>\n",
       "      <td>12.00</td>\n",
       "      <td>1</td>\n",
       "      <td>0</td>\n",
       "      <td>2651</td>\n",
       "      <td>11.2417</td>\n",
       "      <td>NaN</td>\n",
       "      <td>C</td>\n",
       "      <td>Master</td>\n",
       "      <td>12.00</td>\n",
       "      <td>Child</td>\n",
       "      <td>2</td>\n",
       "      <td>Small</td>\n",
       "      <td>Nicola-Yarred</td>\n",
       "    </tr>\n",
       "    <tr>\n",
       "      <td>8</td>\n",
       "      <td>0</td>\n",
       "      <td>3</td>\n",
       "      <td>Palsson, Master. Gosta Leonard</td>\n",
       "      <td>male</td>\n",
       "      <td>2.00</td>\n",
       "      <td>3</td>\n",
       "      <td>1</td>\n",
       "      <td>349909</td>\n",
       "      <td>21.0750</td>\n",
       "      <td>NaN</td>\n",
       "      <td>S</td>\n",
       "      <td>Master</td>\n",
       "      <td>2.00</td>\n",
       "      <td>Baby</td>\n",
       "      <td>5</td>\n",
       "      <td>Medium</td>\n",
       "      <td>Palsson</td>\n",
       "    </tr>\n",
       "    <tr>\n",
       "      <td>165</td>\n",
       "      <td>0</td>\n",
       "      <td>3</td>\n",
       "      <td>Panula, Master. Eino Viljami</td>\n",
       "      <td>male</td>\n",
       "      <td>1.00</td>\n",
       "      <td>4</td>\n",
       "      <td>1</td>\n",
       "      <td>3101295</td>\n",
       "      <td>39.6875</td>\n",
       "      <td>NaN</td>\n",
       "      <td>S</td>\n",
       "      <td>Master</td>\n",
       "      <td>1.00</td>\n",
       "      <td>Baby</td>\n",
       "      <td>6</td>\n",
       "      <td>Medium</td>\n",
       "      <td>Panula</td>\n",
       "    </tr>\n",
       "    <tr>\n",
       "      <td>51</td>\n",
       "      <td>0</td>\n",
       "      <td>3</td>\n",
       "      <td>Panula, Master. Juha Niilo</td>\n",
       "      <td>male</td>\n",
       "      <td>7.00</td>\n",
       "      <td>4</td>\n",
       "      <td>1</td>\n",
       "      <td>3101295</td>\n",
       "      <td>39.6875</td>\n",
       "      <td>NaN</td>\n",
       "      <td>S</td>\n",
       "      <td>Master</td>\n",
       "      <td>7.00</td>\n",
       "      <td>Child</td>\n",
       "      <td>6</td>\n",
       "      <td>Medium</td>\n",
       "      <td>Panula</td>\n",
       "    </tr>\n",
       "    <tr>\n",
       "      <td>825</td>\n",
       "      <td>0</td>\n",
       "      <td>3</td>\n",
       "      <td>Panula, Master. Urho Abraham</td>\n",
       "      <td>male</td>\n",
       "      <td>2.00</td>\n",
       "      <td>4</td>\n",
       "      <td>1</td>\n",
       "      <td>3101295</td>\n",
       "      <td>39.6875</td>\n",
       "      <td>NaN</td>\n",
       "      <td>S</td>\n",
       "      <td>Master</td>\n",
       "      <td>2.00</td>\n",
       "      <td>Baby</td>\n",
       "      <td>6</td>\n",
       "      <td>Medium</td>\n",
       "      <td>Panula</td>\n",
       "    </tr>\n",
       "    <tr>\n",
       "      <td>279</td>\n",
       "      <td>0</td>\n",
       "      <td>3</td>\n",
       "      <td>Rice, Master. Eric</td>\n",
       "      <td>male</td>\n",
       "      <td>7.00</td>\n",
       "      <td>4</td>\n",
       "      <td>1</td>\n",
       "      <td>382652</td>\n",
       "      <td>29.1250</td>\n",
       "      <td>NaN</td>\n",
       "      <td>Q</td>\n",
       "      <td>Master</td>\n",
       "      <td>7.00</td>\n",
       "      <td>Child</td>\n",
       "      <td>6</td>\n",
       "      <td>Medium</td>\n",
       "      <td>Rice</td>\n",
       "    </tr>\n",
       "    <tr>\n",
       "      <td>172</td>\n",
       "      <td>0</td>\n",
       "      <td>3</td>\n",
       "      <td>Rice, Master. Arthur</td>\n",
       "      <td>male</td>\n",
       "      <td>4.00</td>\n",
       "      <td>4</td>\n",
       "      <td>1</td>\n",
       "      <td>382652</td>\n",
       "      <td>29.1250</td>\n",
       "      <td>NaN</td>\n",
       "      <td>Q</td>\n",
       "      <td>Master</td>\n",
       "      <td>4.00</td>\n",
       "      <td>Baby</td>\n",
       "      <td>6</td>\n",
       "      <td>Medium</td>\n",
       "      <td>Rice</td>\n",
       "    </tr>\n",
       "    <tr>\n",
       "      <td>788</td>\n",
       "      <td>0</td>\n",
       "      <td>3</td>\n",
       "      <td>Rice, Master. George Hugh</td>\n",
       "      <td>male</td>\n",
       "      <td>8.00</td>\n",
       "      <td>4</td>\n",
       "      <td>1</td>\n",
       "      <td>382652</td>\n",
       "      <td>29.1250</td>\n",
       "      <td>NaN</td>\n",
       "      <td>Q</td>\n",
       "      <td>Master</td>\n",
       "      <td>8.00</td>\n",
       "      <td>Child</td>\n",
       "      <td>6</td>\n",
       "      <td>Medium</td>\n",
       "      <td>Rice</td>\n",
       "    </tr>\n",
       "    <tr>\n",
       "      <td>17</td>\n",
       "      <td>0</td>\n",
       "      <td>3</td>\n",
       "      <td>Rice, Master. Eugene</td>\n",
       "      <td>male</td>\n",
       "      <td>2.00</td>\n",
       "      <td>4</td>\n",
       "      <td>1</td>\n",
       "      <td>382652</td>\n",
       "      <td>29.1250</td>\n",
       "      <td>NaN</td>\n",
       "      <td>Q</td>\n",
       "      <td>Master</td>\n",
       "      <td>2.00</td>\n",
       "      <td>Baby</td>\n",
       "      <td>6</td>\n",
       "      <td>Medium</td>\n",
       "      <td>Rice</td>\n",
       "    </tr>\n",
       "    <tr>\n",
       "      <td>832</td>\n",
       "      <td>1</td>\n",
       "      <td>2</td>\n",
       "      <td>Richards, Master. George Sibley</td>\n",
       "      <td>male</td>\n",
       "      <td>0.83</td>\n",
       "      <td>1</td>\n",
       "      <td>1</td>\n",
       "      <td>29106</td>\n",
       "      <td>18.7500</td>\n",
       "      <td>NaN</td>\n",
       "      <td>S</td>\n",
       "      <td>Master</td>\n",
       "      <td>0.83</td>\n",
       "      <td>Baby</td>\n",
       "      <td>3</td>\n",
       "      <td>Small</td>\n",
       "      <td>Richards</td>\n",
       "    </tr>\n",
       "    <tr>\n",
       "      <td>408</td>\n",
       "      <td>1</td>\n",
       "      <td>2</td>\n",
       "      <td>Richards, Master. William Rowe</td>\n",
       "      <td>male</td>\n",
       "      <td>3.00</td>\n",
       "      <td>1</td>\n",
       "      <td>1</td>\n",
       "      <td>29106</td>\n",
       "      <td>18.7500</td>\n",
       "      <td>NaN</td>\n",
       "      <td>S</td>\n",
       "      <td>Master</td>\n",
       "      <td>3.00</td>\n",
       "      <td>Baby</td>\n",
       "      <td>3</td>\n",
       "      <td>Small</td>\n",
       "      <td>Richards</td>\n",
       "    </tr>\n",
       "    <tr>\n",
       "      <td>160</td>\n",
       "      <td>0</td>\n",
       "      <td>3</td>\n",
       "      <td>Sage, Master. Thomas Henry</td>\n",
       "      <td>male</td>\n",
       "      <td>NaN</td>\n",
       "      <td>8</td>\n",
       "      <td>2</td>\n",
       "      <td>CA. 2343</td>\n",
       "      <td>69.5500</td>\n",
       "      <td>NaN</td>\n",
       "      <td>S</td>\n",
       "      <td>Master</td>\n",
       "      <td>5.00</td>\n",
       "      <td>Baby</td>\n",
       "      <td>11</td>\n",
       "      <td>Big</td>\n",
       "      <td>Sage</td>\n",
       "    </tr>\n",
       "    <tr>\n",
       "      <td>64</td>\n",
       "      <td>0</td>\n",
       "      <td>3</td>\n",
       "      <td>Skoog, Master. Harald</td>\n",
       "      <td>male</td>\n",
       "      <td>4.00</td>\n",
       "      <td>3</td>\n",
       "      <td>2</td>\n",
       "      <td>347088</td>\n",
       "      <td>27.9000</td>\n",
       "      <td>NaN</td>\n",
       "      <td>S</td>\n",
       "      <td>Master</td>\n",
       "      <td>4.00</td>\n",
       "      <td>Baby</td>\n",
       "      <td>6</td>\n",
       "      <td>Medium</td>\n",
       "      <td>Skoog</td>\n",
       "    </tr>\n",
       "    <tr>\n",
       "      <td>820</td>\n",
       "      <td>0</td>\n",
       "      <td>3</td>\n",
       "      <td>Skoog, Master. Karl Thorsten</td>\n",
       "      <td>male</td>\n",
       "      <td>10.00</td>\n",
       "      <td>3</td>\n",
       "      <td>2</td>\n",
       "      <td>347088</td>\n",
       "      <td>27.9000</td>\n",
       "      <td>NaN</td>\n",
       "      <td>S</td>\n",
       "      <td>Master</td>\n",
       "      <td>10.00</td>\n",
       "      <td>Child</td>\n",
       "      <td>6</td>\n",
       "      <td>Medium</td>\n",
       "      <td>Skoog</td>\n",
       "    </tr>\n",
       "    <tr>\n",
       "      <td>804</td>\n",
       "      <td>1</td>\n",
       "      <td>3</td>\n",
       "      <td>Thomas, Master. Assad Alexander</td>\n",
       "      <td>male</td>\n",
       "      <td>0.42</td>\n",
       "      <td>0</td>\n",
       "      <td>1</td>\n",
       "      <td>2625</td>\n",
       "      <td>8.5167</td>\n",
       "      <td>NaN</td>\n",
       "      <td>C</td>\n",
       "      <td>Master</td>\n",
       "      <td>0.42</td>\n",
       "      <td>Baby</td>\n",
       "      <td>2</td>\n",
       "      <td>Small</td>\n",
       "      <td>Thomas</td>\n",
       "    </tr>\n",
       "  </tbody>\n",
       "</table>\n",
       "</div>"
      ],
      "text/plain": [
       "             Survived  Pclass  \\\n",
       "PassengerId                     \n",
       "306                 1       1   \n",
       "851                 0       3   \n",
       "262                 1       3   \n",
       "183                 0       3   \n",
       "184                 1       2   \n",
       "79                  1       2   \n",
       "803                 1       1   \n",
       "349                 1       3   \n",
       "490                 1       3   \n",
       "550                 1       2   \n",
       "789                 1       3   \n",
       "446                 1       1   \n",
       "166                 1       3   \n",
       "481                 0       3   \n",
       "60                  0       3   \n",
       "387                 0       3   \n",
       "756                 1       2   \n",
       "870                 1       3   \n",
       "177                 0       3   \n",
       "828                 1       2   \n",
       "752                 1       3   \n",
       "710                 1       3   \n",
       "66                  1       3   \n",
       "341                 1       2   \n",
       "194                 1       2   \n",
       "126                 1       3   \n",
       "8                   0       3   \n",
       "165                 0       3   \n",
       "51                  0       3   \n",
       "825                 0       3   \n",
       "279                 0       3   \n",
       "172                 0       3   \n",
       "788                 0       3   \n",
       "17                  0       3   \n",
       "832                 1       2   \n",
       "408                 1       2   \n",
       "160                 0       3   \n",
       "64                  0       3   \n",
       "820                 0       3   \n",
       "804                 1       3   \n",
       "\n",
       "                                                          Name   Sex    Age  \\\n",
       "PassengerId                                                                   \n",
       "306                             Allison, Master. Hudson Trevor  male   0.92   \n",
       "851                    Andersson, Master. Sigvard Harald Elias  male   4.00   \n",
       "262                          Asplund, Master. Edvin Rojj Felix  male   3.00   \n",
       "183                      Asplund, Master. Clarence Gustaf Hugo  male   9.00   \n",
       "184                                  Becker, Master. Richard F  male   1.00   \n",
       "79                               Caldwell, Master. Alden Gates  male   0.83   \n",
       "803                        Carter, Master. William Thornton II  male  11.00   \n",
       "349                     Coutts, Master. William Loch \"William\"  male   3.00   \n",
       "490                      Coutts, Master. Eden Leslie \"Neville\"  male   9.00   \n",
       "550                             Davies, Master. John Morgan Jr  male   8.00   \n",
       "789                                 Dean, Master. Bertram Vere  male   1.00   \n",
       "446                                  Dodge, Master. Washington  male   4.00   \n",
       "166            Goldsmith, Master. Frank John William \"Frankie\"  male   9.00   \n",
       "481                             Goodwin, Master. Harold Victor  male   9.00   \n",
       "60                          Goodwin, Master. William Frederick  male  11.00   \n",
       "387                            Goodwin, Master. Sidney Leonard  male   1.00   \n",
       "756                                  Hamalainen, Master. Viljo  male   0.67   \n",
       "870                            Johnson, Master. Harold Theodor  male   4.00   \n",
       "177                              Lefebre, Master. Henry Forbes  male    NaN   \n",
       "828                                      Mallet, Master. Andre  male   1.00   \n",
       "752                                        Moor, Master. Meier  male   6.00   \n",
       "710          Moubarek, Master. Halim Gonios (\"William George\")  male    NaN   \n",
       "66                                    Moubarek, Master. Gerios  male    NaN   \n",
       "341                             Navratil, Master. Edmond Roger  male   2.00   \n",
       "194                                 Navratil, Master. Michel M  male   3.00   \n",
       "126                               Nicola-Yarred, Master. Elias  male  12.00   \n",
       "8                               Palsson, Master. Gosta Leonard  male   2.00   \n",
       "165                               Panula, Master. Eino Viljami  male   1.00   \n",
       "51                                  Panula, Master. Juha Niilo  male   7.00   \n",
       "825                               Panula, Master. Urho Abraham  male   2.00   \n",
       "279                                         Rice, Master. Eric  male   7.00   \n",
       "172                                       Rice, Master. Arthur  male   4.00   \n",
       "788                                  Rice, Master. George Hugh  male   8.00   \n",
       "17                                        Rice, Master. Eugene  male   2.00   \n",
       "832                            Richards, Master. George Sibley  male   0.83   \n",
       "408                             Richards, Master. William Rowe  male   3.00   \n",
       "160                                 Sage, Master. Thomas Henry  male    NaN   \n",
       "64                                       Skoog, Master. Harald  male   4.00   \n",
       "820                               Skoog, Master. Karl Thorsten  male  10.00   \n",
       "804                            Thomas, Master. Assad Alexander  male   0.42   \n",
       "\n",
       "             SibSp  Parch           Ticket      Fare    Cabin Embarked  \\\n",
       "PassengerId                                                              \n",
       "306              1      2           113781  151.5500  C22 C26        S   \n",
       "851              4      2           347082   31.2750      NaN        S   \n",
       "262              4      2           347077   31.3875      NaN        S   \n",
       "183              4      2           347077   31.3875      NaN        S   \n",
       "184              2      1           230136   39.0000       F4        S   \n",
       "79               0      2           248738   29.0000      NaN        S   \n",
       "803              1      2           113760  120.0000  B96 B98        S   \n",
       "349              1      1       C.A. 37671   15.9000      NaN        S   \n",
       "490              1      1       C.A. 37671   15.9000      NaN        S   \n",
       "550              1      1       C.A. 33112   36.7500      NaN        S   \n",
       "789              1      2        C.A. 2315   20.5750      NaN        S   \n",
       "446              0      2            33638   81.8583      A34        S   \n",
       "166              0      2           363291   20.5250      NaN        S   \n",
       "481              5      2          CA 2144   46.9000      NaN        S   \n",
       "60               5      2          CA 2144   46.9000      NaN        S   \n",
       "387              5      2          CA 2144   46.9000      NaN        S   \n",
       "756              1      1           250649   14.5000      NaN        S   \n",
       "870              1      1           347742   11.1333      NaN        S   \n",
       "177              3      1             4133   25.4667      NaN        S   \n",
       "828              0      2  S.C./PARIS 2079   37.0042      NaN        C   \n",
       "752              0      1           392096   12.4750     E121        S   \n",
       "710              1      1             2661   15.2458      NaN        C   \n",
       "66               1      1             2661   15.2458      NaN        C   \n",
       "341              1      1           230080   26.0000       F2        S   \n",
       "194              1      1           230080   26.0000       F2        S   \n",
       "126              1      0             2651   11.2417      NaN        C   \n",
       "8                3      1           349909   21.0750      NaN        S   \n",
       "165              4      1          3101295   39.6875      NaN        S   \n",
       "51               4      1          3101295   39.6875      NaN        S   \n",
       "825              4      1          3101295   39.6875      NaN        S   \n",
       "279              4      1           382652   29.1250      NaN        Q   \n",
       "172              4      1           382652   29.1250      NaN        Q   \n",
       "788              4      1           382652   29.1250      NaN        Q   \n",
       "17               4      1           382652   29.1250      NaN        Q   \n",
       "832              1      1            29106   18.7500      NaN        S   \n",
       "408              1      1            29106   18.7500      NaN        S   \n",
       "160              8      2         CA. 2343   69.5500      NaN        S   \n",
       "64               3      2           347088   27.9000      NaN        S   \n",
       "820              3      2           347088   27.9000      NaN        S   \n",
       "804              0      1             2625    8.5167      NaN        C   \n",
       "\n",
       "            Name_title  Age_clean Age_Group  Family_size Family_size_group  \\\n",
       "PassengerId                                                                  \n",
       "306             Master       0.92      Baby            4             Small   \n",
       "851             Master       4.00      Baby            7               Big   \n",
       "262             Master       3.00      Baby            7               Big   \n",
       "183             Master       9.00     Child            7               Big   \n",
       "184             Master       1.00      Baby            4             Small   \n",
       "79              Master       0.83      Baby            3             Small   \n",
       "803             Master      11.00     Child            4             Small   \n",
       "349             Master       3.00      Baby            3             Small   \n",
       "490             Master       9.00     Child            3             Small   \n",
       "550             Master       8.00     Child            3             Small   \n",
       "789             Master       1.00      Baby            4             Small   \n",
       "446             Master       4.00      Baby            3             Small   \n",
       "166             Master       9.00     Child            3             Small   \n",
       "481             Master       9.00     Child            8               Big   \n",
       "60              Master      11.00     Child            8               Big   \n",
       "387             Master       1.00      Baby            8               Big   \n",
       "756             Master       0.67      Baby            3             Small   \n",
       "870             Master       4.00      Baby            3             Small   \n",
       "177             Master       5.00      Baby            5            Medium   \n",
       "828             Master       1.00      Baby            3             Small   \n",
       "752             Master       6.00     Child            2             Small   \n",
       "710             Master       5.00      Baby            3             Small   \n",
       "66              Master       5.00      Baby            3             Small   \n",
       "341             Master       2.00      Baby            3             Small   \n",
       "194             Master       3.00      Baby            3             Small   \n",
       "126             Master      12.00     Child            2             Small   \n",
       "8               Master       2.00      Baby            5            Medium   \n",
       "165             Master       1.00      Baby            6            Medium   \n",
       "51              Master       7.00     Child            6            Medium   \n",
       "825             Master       2.00      Baby            6            Medium   \n",
       "279             Master       7.00     Child            6            Medium   \n",
       "172             Master       4.00      Baby            6            Medium   \n",
       "788             Master       8.00     Child            6            Medium   \n",
       "17              Master       2.00      Baby            6            Medium   \n",
       "832             Master       0.83      Baby            3             Small   \n",
       "408             Master       3.00      Baby            3             Small   \n",
       "160             Master       5.00      Baby           11               Big   \n",
       "64              Master       4.00      Baby            6            Medium   \n",
       "820             Master      10.00     Child            6            Medium   \n",
       "804             Master       0.42      Baby            2             Small   \n",
       "\n",
       "                   Surname  \n",
       "PassengerId                 \n",
       "306                Allison  \n",
       "851              Andersson  \n",
       "262                Asplund  \n",
       "183                Asplund  \n",
       "184                 Becker  \n",
       "79                Caldwell  \n",
       "803                 Carter  \n",
       "349                 Coutts  \n",
       "490                 Coutts  \n",
       "550                 Davies  \n",
       "789                   Dean  \n",
       "446                  Dodge  \n",
       "166              Goldsmith  \n",
       "481                Goodwin  \n",
       "60                 Goodwin  \n",
       "387                Goodwin  \n",
       "756             Hamalainen  \n",
       "870                Johnson  \n",
       "177                Lefebre  \n",
       "828                 Mallet  \n",
       "752                   Moor  \n",
       "710               Moubarek  \n",
       "66                Moubarek  \n",
       "341               Navratil  \n",
       "194               Navratil  \n",
       "126          Nicola-Yarred  \n",
       "8                  Palsson  \n",
       "165                 Panula  \n",
       "51                  Panula  \n",
       "825                 Panula  \n",
       "279                   Rice  \n",
       "172                   Rice  \n",
       "788                   Rice  \n",
       "17                    Rice  \n",
       "832               Richards  \n",
       "408               Richards  \n",
       "160                   Sage  \n",
       "64                   Skoog  \n",
       "820                  Skoog  \n",
       "804                 Thomas  "
      ]
     },
     "execution_count": 114,
     "metadata": {},
     "output_type": "execute_result"
    }
   ],
   "source": [
    "train[(train['Family_size']>=2)&(train['Name_title']=='Master')].sort_values(by='Surname')"
   ]
  },
  {
   "cell_type": "code",
   "execution_count": null,
   "metadata": {},
   "outputs": [],
   "source": []
  },
  {
   "cell_type": "code",
   "execution_count": null,
   "metadata": {},
   "outputs": [],
   "source": []
  },
  {
   "cell_type": "markdown",
   "metadata": {},
   "source": [
    "이제 모든 데이터가 머신러닝 모델에 넣을 수 있게 깔끔하게 정리 되었다. 이를 바탕으로 예측모형을 만들어보겠다."
   ]
  },
  {
   "cell_type": "markdown",
   "metadata": {
    "toc-hr-collapsed": false
   },
   "source": [
    "## 4. Train\n",

   ]
  },
  {
   "cell_type": "code",
   "execution_count": 362,
   "metadata": {},
   "outputs": [
    {
     "data": {
      "text/html": [
       "<div>\n",
       "<style scoped>\n",
       "    .dataframe tbody tr th:only-of-type {\n",
       "        vertical-align: middle;\n",
       "    }\n",
       "\n",
       "    .dataframe tbody tr th {\n",
       "        vertical-align: top;\n",
       "    }\n",
       "\n",
       "    .dataframe thead th {\n",
       "        text-align: right;\n",
       "    }\n",
       "</style>\n",
       "<table border=\"1\" class=\"dataframe\">\n",
       "  <thead>\n",
       "    <tr style=\"text-align: right;\">\n",
       "      <th></th>\n",
       "      <th>Age</th>\n",
       "      <th>Age_Group</th>\n",
       "      <th>Age_clean</th>\n",
       "      <th>Cabin</th>\n",
       "      <th>Embarked</th>\n",
       "      <th>Family_size</th>\n",
       "      <th>Family_size_group</th>\n",
       "      <th>Fare</th>\n",
       "      <th>Name</th>\n",
       "      <th>Name_title</th>\n",
       "      <th>Parch</th>\n",
       "      <th>Pclass</th>\n",
       "      <th>Sex</th>\n",
       "      <th>SibSp</th>\n",
       "      <th>Survived</th>\n",
       "      <th>Ticket</th>\n",
       "      <th>Ticket_Frequency</th>\n",
       "      <th>Married</th>\n",
       "      <th>Deck</th>\n",
       "    </tr>\n",
       "    <tr>\n",
       "      <th>PassengerId</th>\n",
       "      <th></th>\n",
       "      <th></th>\n",
       "      <th></th>\n",
       "      <th></th>\n",
       "      <th></th>\n",
       "      <th></th>\n",
       "      <th></th>\n",
       "      <th></th>\n",
       "      <th></th>\n",
       "      <th></th>\n",
       "      <th></th>\n",
       "      <th></th>\n",
       "      <th></th>\n",
       "      <th></th>\n",
       "      <th></th>\n",
       "      <th></th>\n",
       "      <th></th>\n",
       "      <th></th>\n",
       "      <th></th>\n",
       "    </tr>\n",
       "  </thead>\n",
       "  <tbody>\n",
       "    <tr>\n",
       "      <td>1</td>\n",
       "      <td>22.0</td>\n",
       "      <td>Student</td>\n",
       "      <td>(21.0, 23.0]</td>\n",
       "      <td>NaN</td>\n",
       "      <td>S</td>\n",
       "      <td>2</td>\n",
       "      <td>Small</td>\n",
       "      <td>(-0.001, 7.25]</td>\n",
       "      <td>Braund, Mr. Owen Harris</td>\n",
       "      <td>Mr</td>\n",
       "      <td>0</td>\n",
       "      <td>3</td>\n",
       "      <td>male</td>\n",
       "      <td>1</td>\n",
       "      <td>0.0</td>\n",
       "      <td>A/5 21171</td>\n",
       "      <td>1</td>\n",
       "      <td>0</td>\n",
       "      <td>M</td>\n",
       "    </tr>\n",
       "  </tbody>\n",
       "</table>\n",
       "</div>"
      ],
      "text/plain": [
       "              Age Age_Group     Age_clean Cabin Embarked  Family_size  \\\n",
       "PassengerId                                                             \n",
       "1            22.0   Student  (21.0, 23.0]   NaN        S            2   \n",
       "\n",
       "            Family_size_group            Fare                     Name  \\\n",
       "PassengerId                                                              \n",
       "1                       Small  (-0.001, 7.25]  Braund, Mr. Owen Harris   \n",
       "\n",
       "            Name_title  Parch  Pclass   Sex  SibSp  Survived     Ticket  \\\n",
       "PassengerId                                                               \n",
       "1                   Mr      0       3  male      1       0.0  A/5 21171   \n",
       "\n",
       "             Ticket_Frequency  Married Deck  \n",
       "PassengerId                                  \n",
       "1                           1        0    M  "
      ]
     },
     "execution_count": 362,
     "metadata": {},
     "output_type": "execute_result"
    }
   ],
   "source": [
    "titanic.head(1)"
   ]
  },
  {
   "cell_type": "markdown",
   "metadata": {},
   "source": [
    "#### 4-1. Encoding"
   ]
  },
  {
   "cell_type": "markdown",
   "metadata": {},
   "source": [
    "##### 4-1-1. Non numerical Features"
   ]
  },
  {
   "cell_type": "code",
   "execution_count": 363,
   "metadata": {},
   "outputs": [],
   "source": [
    "import numpy as np\n",
    "from sklearn.preprocessing import LabelEncoder\n",
    "\n",
    "non_numeric_features = ['Age_clean', 'Fare']\n",
    "\n",
    "for feature in non_numeric_features:        \n",
    "    titanic[feature] = LabelEncoder().fit_transform(titanic[feature])"
   ]
  },
  {
   "cell_type": "markdown",
   "metadata": {},
   "source": [
    "##### 4-1-2. Categorical Features"
   ]
  },
  {
   "cell_type": "code",
   "execution_count": 364,
   "metadata": {},
   "outputs": [],
   "source": [
    "titanic['Pclass'] = titanic['Pclass'].replace(1,'1st').replace(2,'2nd').replace(3,'3rd')"
   ]
  },
  {
   "cell_type": "code",
   "execution_count": 365,
   "metadata": {},
   "outputs": [],
   "source": [
    "categorical = ['Pclass', 'Embarked', 'Family_size_group', 'Name_title', 'Deck', 'Sex']"
   ]
  },
  {
   "cell_type": "code",
   "execution_count": 366,
   "metadata": {},
   "outputs": [
    {
     "data": {
      "text/html": [
       "<div>\n",
       "<style scoped>\n",
       "    .dataframe tbody tr th:only-of-type {\n",
       "        vertical-align: middle;\n",
       "    }\n",
       "\n",
       "    .dataframe tbody tr th {\n",
       "        vertical-align: top;\n",
       "    }\n",
       "\n",
       "    .dataframe thead th {\n",
       "        text-align: right;\n",
       "    }\n",
       "</style>\n",
       "<table border=\"1\" class=\"dataframe\">\n",
       "  <thead>\n",
       "    <tr style=\"text-align: right;\">\n",
       "      <th></th>\n",
       "      <th>Pclass_1st</th>\n",
       "      <th>Pclass_2nd</th>\n",
       "      <th>Pclass_3rd</th>\n",
       "      <th>Embarked_C</th>\n",
       "      <th>Embarked_Q</th>\n",
       "      <th>Embarked_S</th>\n",
       "      <th>Family_size_group_Alone</th>\n",
       "      <th>Family_size_group_Big</th>\n",
       "      <th>Family_size_group_Medium</th>\n",
       "      <th>Family_size_group_Small</th>\n",
       "      <th>Name_title_Master</th>\n",
       "      <th>Name_title_Miss</th>\n",
       "      <th>Name_title_Mr</th>\n",
       "      <th>Name_title_Mrs</th>\n",
       "      <th>Name_title_Officer</th>\n",
       "      <th>Name_title_Royalty</th>\n",
       "      <th>Deck_ABC</th>\n",
       "      <th>Deck_DE</th>\n",
       "      <th>Deck_FG</th>\n",
       "      <th>Deck_M</th>\n",
       "      <th>Sex_female</th>\n",
       "      <th>Sex_male</th>\n",
       "    </tr>\n",
       "    <tr>\n",
       "      <th>PassengerId</th>\n",
       "      <th></th>\n",
       "      <th></th>\n",
       "      <th></th>\n",
       "      <th></th>\n",
       "      <th></th>\n",
       "      <th></th>\n",
       "      <th></th>\n",
       "      <th></th>\n",
       "      <th></th>\n",
       "      <th></th>\n",
       "      <th></th>\n",
       "      <th></th>\n",
       "      <th></th>\n",
       "      <th></th>\n",
       "      <th></th>\n",
       "      <th></th>\n",
       "      <th></th>\n",
       "      <th></th>\n",
       "      <th></th>\n",
       "      <th></th>\n",
       "      <th></th>\n",
       "      <th></th>\n",
       "    </tr>\n",
       "  </thead>\n",
       "  <tbody>\n",
       "    <tr>\n",
       "      <td>1</td>\n",
       "      <td>0</td>\n",
       "      <td>0</td>\n",
       "      <td>1</td>\n",
       "      <td>0</td>\n",
       "      <td>0</td>\n",
       "      <td>1</td>\n",
       "      <td>0</td>\n",
       "      <td>0</td>\n",
       "      <td>0</td>\n",
       "      <td>1</td>\n",
       "      <td>0</td>\n",
       "      <td>0</td>\n",
       "      <td>1</td>\n",
       "      <td>0</td>\n",
       "      <td>0</td>\n",
       "      <td>0</td>\n",
       "      <td>0</td>\n",
       "      <td>0</td>\n",
       "      <td>0</td>\n",
       "      <td>1</td>\n",
       "      <td>0</td>\n",
       "      <td>1</td>\n",
       "    </tr>\n",
       "    <tr>\n",
       "      <td>2</td>\n",
       "      <td>1</td>\n",
       "      <td>0</td>\n",
       "      <td>0</td>\n",
       "      <td>1</td>\n",
       "      <td>0</td>\n",
       "      <td>0</td>\n",
       "      <td>0</td>\n",
       "      <td>0</td>\n",
       "      <td>0</td>\n",
       "      <td>1</td>\n",
       "      <td>0</td>\n",
       "      <td>0</td>\n",
       "      <td>0</td>\n",
       "      <td>1</td>\n",
       "      <td>0</td>\n",
       "      <td>0</td>\n",
       "      <td>1</td>\n",
       "      <td>0</td>\n",
       "      <td>0</td>\n",
       "      <td>0</td>\n",
       "      <td>1</td>\n",
       "      <td>0</td>\n",
       "    </tr>\n",
       "    <tr>\n",
       "      <td>3</td>\n",
       "      <td>0</td>\n",
       "      <td>0</td>\n",
       "      <td>1</td>\n",
       "      <td>0</td>\n",
       "      <td>0</td>\n",
       "      <td>1</td>\n",
       "      <td>1</td>\n",
       "      <td>0</td>\n",
       "      <td>0</td>\n",
       "      <td>0</td>\n",
       "      <td>0</td>\n",
       "      <td>1</td>\n",
       "      <td>0</td>\n",
       "      <td>0</td>\n",
       "      <td>0</td>\n",
       "      <td>0</td>\n",
       "      <td>0</td>\n",
       "      <td>0</td>\n",
       "      <td>0</td>\n",
       "      <td>1</td>\n",
       "      <td>1</td>\n",
       "      <td>0</td>\n",
       "    </tr>\n",
       "    <tr>\n",
       "      <td>4</td>\n",
       "      <td>1</td>\n",
       "      <td>0</td>\n",
       "      <td>0</td>\n",
       "      <td>0</td>\n",
       "      <td>0</td>\n",
       "      <td>1</td>\n",
       "      <td>0</td>\n",
       "      <td>0</td>\n",
       "      <td>0</td>\n",
       "      <td>1</td>\n",
       "      <td>0</td>\n",
       "      <td>0</td>\n",
       "      <td>0</td>\n",
       "      <td>1</td>\n",
       "      <td>0</td>\n",
       "      <td>0</td>\n",
       "      <td>1</td>\n",
       "      <td>0</td>\n",
       "      <td>0</td>\n",
       "      <td>0</td>\n",
       "      <td>1</td>\n",
       "      <td>0</td>\n",
       "    </tr>\n",
       "    <tr>\n",
       "      <td>5</td>\n",
       "      <td>0</td>\n",
       "      <td>0</td>\n",
       "      <td>1</td>\n",
       "      <td>0</td>\n",
       "      <td>0</td>\n",
       "      <td>1</td>\n",
       "      <td>1</td>\n",
       "      <td>0</td>\n",
       "      <td>0</td>\n",
       "      <td>0</td>\n",
       "      <td>0</td>\n",
       "      <td>0</td>\n",
       "      <td>1</td>\n",
       "      <td>0</td>\n",
       "      <td>0</td>\n",
       "      <td>0</td>\n",
       "      <td>0</td>\n",
       "      <td>0</td>\n",
       "      <td>0</td>\n",
       "      <td>1</td>\n",
       "      <td>0</td>\n",
       "      <td>1</td>\n",
       "    </tr>\n",
       "  </tbody>\n",
       "</table>\n",
       "</div>"
      ],
      "text/plain": [
       "             Pclass_1st  Pclass_2nd  Pclass_3rd  Embarked_C  Embarked_Q  \\\n",
       "PassengerId                                                               \n",
       "1                     0           0           1           0           0   \n",
       "2                     1           0           0           1           0   \n",
       "3                     0           0           1           0           0   \n",
       "4                     1           0           0           0           0   \n",
       "5                     0           0           1           0           0   \n",
       "\n",
       "             Embarked_S  Family_size_group_Alone  Family_size_group_Big  \\\n",
       "PassengerId                                                               \n",
       "1                     1                        0                      0   \n",
       "2                     0                        0                      0   \n",
       "3                     1                        1                      0   \n",
       "4                     1                        0                      0   \n",
       "5                     1                        1                      0   \n",
       "\n",
       "             Family_size_group_Medium  Family_size_group_Small  \\\n",
       "PassengerId                                                      \n",
       "1                                   0                        1   \n",
       "2                                   0                        1   \n",
       "3                                   0                        0   \n",
       "4                                   0                        1   \n",
       "5                                   0                        0   \n",
       "\n",
       "             Name_title_Master  Name_title_Miss  Name_title_Mr  \\\n",
       "PassengerId                                                      \n",
       "1                            0                0              1   \n",
       "2                            0                0              0   \n",
       "3                            0                1              0   \n",
       "4                            0                0              0   \n",
       "5                            0                0              1   \n",
       "\n",
       "             Name_title_Mrs  Name_title_Officer  Name_title_Royalty  Deck_ABC  \\\n",
       "PassengerId                                                                     \n",
       "1                         0                   0                   0         0   \n",
       "2                         1                   0                   0         1   \n",
       "3                         0                   0                   0         0   \n",
       "4                         1                   0                   0         1   \n",
       "5                         0                   0                   0         0   \n",
       "\n",
       "             Deck_DE  Deck_FG  Deck_M  Sex_female  Sex_male  \n",
       "PassengerId                                                  \n",
       "1                  0        0       1           0         1  \n",
       "2                  0        0       0           1         0  \n",
       "3                  0        0       1           1         0  \n",
       "4                  0        0       0           1         0  \n",
       "5                  0        0       1           0         1  "
      ]
     },
     "execution_count": 366,
     "metadata": {},
     "output_type": "execute_result"
    }
   ],
   "source": [
    "titanic_cat = pd.get_dummies(titanic[categorical])\n",
    "titanic_cat.head()"
   ]
  },
  {
   "cell_type": "code",
   "execution_count": 367,
   "metadata": {},
   "outputs": [],
   "source": [
    "features = ['Age_clean', 'Fare', 'Survived', 'Ticket_Frequency', 'Married']"
   ]
  },
  {
   "cell_type": "code",
   "execution_count": 371,
   "metadata": {},
   "outputs": [
    {
     "data": {
      "text/html": [
       "<div>\n",
       "<style scoped>\n",
       "    .dataframe tbody tr th:only-of-type {\n",
       "        vertical-align: middle;\n",
       "    }\n",
       "\n",
       "    .dataframe tbody tr th {\n",
       "        vertical-align: top;\n",
       "    }\n",
       "\n",
       "    .dataframe thead th {\n",
       "        text-align: right;\n",
       "    }\n",
       "</style>\n",
       "<table border=\"1\" class=\"dataframe\">\n",
       "  <thead>\n",
       "    <tr style=\"text-align: right;\">\n",
       "      <th></th>\n",
       "      <th>Age_clean</th>\n",
       "      <th>Fare</th>\n",
       "      <th>Survived</th>\n",
       "      <th>Ticket_Frequency</th>\n",
       "      <th>Married</th>\n",
       "      <th>Pclass_1st</th>\n",
       "      <th>Pclass_2nd</th>\n",
       "      <th>Pclass_3rd</th>\n",
       "      <th>Embarked_C</th>\n",
       "      <th>Embarked_Q</th>\n",
       "      <th>Embarked_S</th>\n",
       "      <th>Family_size_group_Alone</th>\n",
       "      <th>Family_size_group_Big</th>\n",
       "      <th>Family_size_group_Medium</th>\n",
       "      <th>Family_size_group_Small</th>\n",
       "      <th>Name_title_Master</th>\n",
       "      <th>Name_title_Miss</th>\n",
       "      <th>Name_title_Mr</th>\n",
       "      <th>Name_title_Mrs</th>\n",
       "      <th>Name_title_Officer</th>\n",
       "      <th>Name_title_Royalty</th>\n",
       "      <th>Deck_ABC</th>\n",
       "      <th>Deck_DE</th>\n",
       "      <th>Deck_FG</th>\n",
       "      <th>Deck_M</th>\n",
       "      <th>Sex_female</th>\n",
       "      <th>Sex_male</th>\n",
       "    </tr>\n",
       "    <tr>\n",
       "      <th>PassengerId</th>\n",
       "      <th></th>\n",
       "      <th></th>\n",
       "      <th></th>\n",
       "      <th></th>\n",
       "      <th></th>\n",
       "      <th></th>\n",
       "      <th></th>\n",
       "      <th></th>\n",
       "      <th></th>\n",
       "      <th></th>\n",
       "      <th></th>\n",
       "      <th></th>\n",
       "      <th></th>\n",
       "      <th></th>\n",
       "      <th></th>\n",
       "      <th></th>\n",
       "      <th></th>\n",
       "      <th></th>\n",
       "      <th></th>\n",
       "      <th></th>\n",
       "      <th></th>\n",
       "      <th></th>\n",
       "      <th></th>\n",
       "      <th></th>\n",
       "      <th></th>\n",
       "      <th></th>\n",
       "      <th></th>\n",
       "    </tr>\n",
       "  </thead>\n",
       "  <tbody>\n",
       "    <tr>\n",
       "      <td>1</td>\n",
       "      <td>2</td>\n",
       "      <td>0</td>\n",
       "      <td>0.0</td>\n",
       "      <td>1</td>\n",
       "      <td>0</td>\n",
       "      <td>0</td>\n",
       "      <td>0</td>\n",
       "      <td>1</td>\n",
       "      <td>0</td>\n",
       "      <td>0</td>\n",
       "      <td>1</td>\n",
       "      <td>0</td>\n",
       "      <td>0</td>\n",
       "      <td>0</td>\n",
       "      <td>1</td>\n",
       "      <td>0</td>\n",
       "      <td>0</td>\n",
       "      <td>1</td>\n",
       "      <td>0</td>\n",
       "      <td>0</td>\n",
       "      <td>0</td>\n",
       "      <td>0</td>\n",
       "      <td>0</td>\n",
       "      <td>0</td>\n",
       "      <td>1</td>\n",
       "      <td>0</td>\n",
       "      <td>1</td>\n",
       "    </tr>\n",
       "    <tr>\n",
       "      <td>2</td>\n",
       "      <td>7</td>\n",
       "      <td>11</td>\n",
       "      <td>1.0</td>\n",
       "      <td>2</td>\n",
       "      <td>1</td>\n",
       "      <td>1</td>\n",
       "      <td>0</td>\n",
       "      <td>0</td>\n",
       "      <td>1</td>\n",
       "      <td>0</td>\n",
       "      <td>0</td>\n",
       "      <td>0</td>\n",
       "      <td>0</td>\n",
       "      <td>0</td>\n",
       "      <td>1</td>\n",
       "      <td>0</td>\n",
       "      <td>0</td>\n",
       "      <td>0</td>\n",
       "      <td>1</td>\n",
       "      <td>0</td>\n",
       "      <td>0</td>\n",
       "      <td>1</td>\n",
       "      <td>0</td>\n",
       "      <td>0</td>\n",
       "      <td>0</td>\n",
       "      <td>1</td>\n",
       "      <td>0</td>\n",
       "    </tr>\n",
       "    <tr>\n",
       "      <td>3</td>\n",
       "      <td>3</td>\n",
       "      <td>3</td>\n",
       "      <td>1.0</td>\n",
       "      <td>1</td>\n",
       "      <td>0</td>\n",
       "      <td>0</td>\n",
       "      <td>0</td>\n",
       "      <td>1</td>\n",
       "      <td>0</td>\n",
       "      <td>0</td>\n",
       "      <td>1</td>\n",
       "      <td>1</td>\n",
       "      <td>0</td>\n",
       "      <td>0</td>\n",
       "      <td>0</td>\n",
       "      <td>0</td>\n",
       "      <td>1</td>\n",
       "      <td>0</td>\n",
       "      <td>0</td>\n",
       "      <td>0</td>\n",
       "      <td>0</td>\n",
       "      <td>0</td>\n",
       "      <td>0</td>\n",
       "      <td>0</td>\n",
       "      <td>1</td>\n",
       "      <td>1</td>\n",
       "      <td>0</td>\n",
       "    </tr>\n",
       "    <tr>\n",
       "      <td>4</td>\n",
       "      <td>7</td>\n",
       "      <td>10</td>\n",
       "      <td>1.0</td>\n",
       "      <td>2</td>\n",
       "      <td>1</td>\n",
       "      <td>1</td>\n",
       "      <td>0</td>\n",
       "      <td>0</td>\n",
       "      <td>0</td>\n",
       "      <td>0</td>\n",
       "      <td>1</td>\n",
       "      <td>0</td>\n",
       "      <td>0</td>\n",
       "      <td>0</td>\n",
       "      <td>1</td>\n",
       "      <td>0</td>\n",
       "      <td>0</td>\n",
       "      <td>0</td>\n",
       "      <td>1</td>\n",
       "      <td>0</td>\n",
       "      <td>0</td>\n",
       "      <td>1</td>\n",
       "      <td>0</td>\n",
       "      <td>0</td>\n",
       "      <td>0</td>\n",
       "      <td>1</td>\n",
       "      <td>0</td>\n",
       "    </tr>\n",
       "    <tr>\n",
       "      <td>5</td>\n",
       "      <td>7</td>\n",
       "      <td>3</td>\n",
       "      <td>0.0</td>\n",
       "      <td>1</td>\n",
       "      <td>0</td>\n",
       "      <td>0</td>\n",
       "      <td>0</td>\n",
       "      <td>1</td>\n",
       "      <td>0</td>\n",
       "      <td>0</td>\n",
       "      <td>1</td>\n",
       "      <td>1</td>\n",
       "      <td>0</td>\n",
       "      <td>0</td>\n",
       "      <td>0</td>\n",
       "      <td>0</td>\n",
       "      <td>0</td>\n",
       "      <td>1</td>\n",
       "      <td>0</td>\n",
       "      <td>0</td>\n",
       "      <td>0</td>\n",
       "      <td>0</td>\n",
       "      <td>0</td>\n",
       "      <td>0</td>\n",
       "      <td>1</td>\n",
       "      <td>0</td>\n",
       "      <td>1</td>\n",
       "    </tr>\n",
       "  </tbody>\n",
       "</table>\n",
       "</div>"
      ],
      "text/plain": [
       "             Age_clean  Fare  Survived  Ticket_Frequency  Married  Pclass_1st  \\\n",
       "PassengerId                                                                     \n",
       "1                    2     0       0.0                 1        0           0   \n",
       "2                    7    11       1.0                 2        1           1   \n",
       "3                    3     3       1.0                 1        0           0   \n",
       "4                    7    10       1.0                 2        1           1   \n",
       "5                    7     3       0.0                 1        0           0   \n",
       "\n",
       "             Pclass_2nd  Pclass_3rd  Embarked_C  Embarked_Q  Embarked_S  \\\n",
       "PassengerId                                                               \n",
       "1                     0           1           0           0           1   \n",
       "2                     0           0           1           0           0   \n",
       "3                     0           1           0           0           1   \n",
       "4                     0           0           0           0           1   \n",
       "5                     0           1           0           0           1   \n",
       "\n",
       "             Family_size_group_Alone  Family_size_group_Big  \\\n",
       "PassengerId                                                   \n",
       "1                                  0                      0   \n",
       "2                                  0                      0   \n",
       "3                                  1                      0   \n",
       "4                                  0                      0   \n",
       "5                                  1                      0   \n",
       "\n",
       "             Family_size_group_Medium  Family_size_group_Small  \\\n",
       "PassengerId                                                      \n",
       "1                                   0                        1   \n",
       "2                                   0                        1   \n",
       "3                                   0                        0   \n",
       "4                                   0                        1   \n",
       "5                                   0                        0   \n",
       "\n",
       "             Name_title_Master  Name_title_Miss  Name_title_Mr  \\\n",
       "PassengerId                                                      \n",
       "1                            0                0              1   \n",
       "2                            0                0              0   \n",
       "3                            0                1              0   \n",
       "4                            0                0              0   \n",
       "5                            0                0              1   \n",
       "\n",
       "             Name_title_Mrs  Name_title_Officer  Name_title_Royalty  Deck_ABC  \\\n",
       "PassengerId                                                                     \n",
       "1                         0                   0                   0         0   \n",
       "2                         1                   0                   0         1   \n",
       "3                         0                   0                   0         0   \n",
       "4                         1                   0                   0         1   \n",
       "5                         0                   0                   0         0   \n",
       "\n",
       "             Deck_DE  Deck_FG  Deck_M  Sex_female  Sex_male  \n",
       "PassengerId                                                  \n",
       "1                  0        0       1           0         1  \n",
       "2                  0        0       0           1         0  \n",
       "3                  0        0       1           1         0  \n",
       "4                  0        0       0           1         0  \n",
       "5                  0        0       1           0         1  "
      ]
     },
     "execution_count": 371,
     "metadata": {},
     "output_type": "execute_result"
    }
   ],
   "source": [
    "titanic_result = pd.concat([titanic[features], titanic_cat], axis=1)\n",
    "titanic_result.head()"
   ]
  },
  {
   "cell_type": "code",
   "execution_count": 373,
   "metadata": {},
   "outputs": [
    {
     "name": "stdout",
     "output_type": "stream",
     "text": [
      "<class 'pandas.core.frame.DataFrame'>\n",
      "Int64Index: 1309 entries, 1 to 1309\n",
      "Data columns (total 27 columns):\n",
      "Age_clean                   1309 non-null int32\n",
      "Fare                        1309 non-null int32\n",
      "Survived                    891 non-null float64\n",
      "Ticket_Frequency            1309 non-null int64\n",
      "Married                     1309 non-null int64\n",
      "Pclass_1st                  1309 non-null uint8\n",
      "Pclass_2nd                  1309 non-null uint8\n",
      "Pclass_3rd                  1309 non-null uint8\n",
      "Embarked_C                  1309 non-null uint8\n",
      "Embarked_Q                  1309 non-null uint8\n",
      "Embarked_S                  1309 non-null uint8\n",
      "Family_size_group_Alone     1309 non-null uint8\n",
      "Family_size_group_Big       1309 non-null uint8\n",
      "Family_size_group_Medium    1309 non-null uint8\n",
      "Family_size_group_Small     1309 non-null uint8\n",
      "Name_title_Master           1309 non-null uint8\n",
      "Name_title_Miss             1309 non-null uint8\n",
      "Name_title_Mr               1309 non-null uint8\n",
      "Name_title_Mrs              1309 non-null uint8\n",
      "Name_title_Officer          1309 non-null uint8\n",
      "Name_title_Royalty          1309 non-null uint8\n",
      "Deck_ABC                    1309 non-null uint8\n",
      "Deck_DE                     1309 non-null uint8\n",
      "Deck_FG                     1309 non-null uint8\n",
      "Deck_M                      1309 non-null uint8\n",
      "Sex_female                  1309 non-null uint8\n",
      "Sex_male                    1309 non-null uint8\n",
      "dtypes: float64(1), int32(2), int64(2), uint8(22)\n",
      "memory usage: 119.3 KB\n"
     ]
    }
   ],
   "source": [
    "titanic_result.info()"
   ]
  },
  {
   "cell_type": "markdown",
   "metadata": {},
   "source": [
    "#### 4-2. Model Sellecting"
   ]
  },
  {
   "cell_type": "code",
   "execution_count": 374,
   "metadata": {},
   "outputs": [],
   "source": [
    "train = titanic_result[:len(train)]\n",
    "test = titanic_result[len(train):]"
   ]
  },
  {
   "cell_type": "code",
   "execution_count": 375,
   "metadata": {},
   "outputs": [
    {
     "name": "stderr",
     "output_type": "stream",
     "text": [
      "C:\\Users\\user\\Anaconda3\\lib\\site-packages\\pandas\\core\\generic.py:5208: SettingWithCopyWarning: \n",
      "A value is trying to be set on a copy of a slice from a DataFrame.\n",
      "Try using .loc[row_indexer,col_indexer] = value instead\n",
      "\n",
      "See the caveats in the documentation: http://pandas.pydata.org/pandas-docs/stable/user_guide/indexing.html#returning-a-view-versus-a-copy\n",
      "  self[name] = value\n"
     ]
    },
    {
     "data": {
      "text/plain": [
       "dtype('int32')"
      ]
     },
     "execution_count": 375,
     "metadata": {},
     "output_type": "execute_result"
    }
   ],
   "source": [
    "train.Survived=train.Survived.astype('int')\n",
    "train.Survived.dtype"
   ]
  },
  {
   "cell_type": "code",
   "execution_count": 376,
   "metadata": {},
   "outputs": [],
   "source": [
    "xtrain=train.drop(\"Survived\",axis=1)\n",
    "ytrain=train['Survived']\n",
    "xtest=test.drop(\"Survived\", axis=1)"
   ]
  },
  {
   "cell_type": "code",
   "execution_count": 458,
   "metadata": {},
   "outputs": [],
   "source": [
    "from sklearn.tree import DecisionTreeClassifier\n",
    "from sklearn.linear_model import LogisticRegression\n",
    "from sklearn.svm import SVC\n",
    "from sklearn.ensemble import RandomForestClassifier"
   ]
  },
  {
   "cell_type": "code",
   "execution_count": 459,
   "metadata": {},
   "outputs": [],
   "source": [
    "from sklearn.model_selection import StratifiedKFold"
   ]
  },
  {
   "cell_type": "code",
   "execution_count": 468,
   "metadata": {},
   "outputs": [],
   "source": [
    "rf = RandomForestClassifier(max_depth=2, n_estimators=100, random_state=0)\n",
    "dtree = DecisionTreeClassifier(max_depth=10, random_state=0)\n",
    "lg = LogisticRegression()"
   ]
  },
  {
   "cell_type": "code",
   "execution_count": 472,
   "metadata": {},
   "outputs": [
    {
     "name": "stdout",
     "output_type": "stream",
     "text": [
      "CV accuracy scores: [0.82222222 0.76666667 0.80898876 0.7752809  0.79775281 0.75280899\n",
      " 0.73033708 0.82022472 0.79775281 0.80681818]\n",
      "CV accuracy: 0.788 +/- 0.029\n"
     ]
    }
   ],
   "source": [
    "from sklearn.model_selection import cross_val_score\n",
    "\n",
    "scores = cross_val_score(rf, X=xtrain, y=ytrain, cv=10,n_jobs=1)\n",
    "\n",
    "print('CV accuracy scores: %s' % scores)\n",
    "print('CV accuracy: %.3f +/- %.3f' % (np.mean(scores), np.std(scores)))"
   ]
  },
  {
   "cell_type": "code",
   "execution_count": 473,
   "metadata": {},
   "outputs": [],
   "source": [
    "def train_and_test(model):\n",
    "    model.fit(xtrain, ytrain)\n",
    "    prediction = model.predict(xtest)\n",
    "    accuracy = round(model.score(xtrain, ytrain) * 100, 2)\n",
    "    print(\"Accuracy : \", accuracy, \"%\")\n",
    "    return prediction"
   ]
  },
  {
   "cell_type": "code",
   "execution_count": 474,
   "metadata": {},
   "outputs": [
    {
     "name": "stderr",
     "output_type": "stream",
     "text": [
      "C:\\Users\\user\\Anaconda3\\lib\\site-packages\\sklearn\\linear_model\\logistic.py:432: FutureWarning: Default solver will be changed to 'lbfgs' in 0.22. Specify a solver to silence this warning.\n",
      "  FutureWarning)\n",
      "C:\\Users\\user\\Anaconda3\\lib\\site-packages\\sklearn\\svm\\base.py:193: FutureWarning: The default value of gamma will change from 'auto' to 'scale' in version 0.22 to account better for unscaled features. Set gamma explicitly to 'auto' or 'scale' to avoid this warning.\n",
      "  \"avoid this warning.\", FutureWarning)\n"
     ]
    },
    {
     "name": "stdout",
     "output_type": "stream",
     "text": [
      "Accuracy :  83.84 %\n",
      "Accuracy :  83.5 %\n",
      "Accuracy :  86.2 %\n",
      "Accuracy :  94.5 %\n",
      "Accuracy :  81.59 %\n"
     ]
    }
   ],
   "source": [
    "# Logistic Regression\n",
    "log_pred = train_and_test(LogisticRegression())\n",
    "# SVM\n",
    "svm_pred = train_and_test(SVC())\n",
    "#kNN\n",
    "knn_pred_4 = train_and_test(KNeighborsClassifier(n_neighbors = 4))\n",
    "# Random Forest\n",
    "rf_pred = train_and_test(RandomForestClassifier(n_estimators=100))\n",
    "# Navie Bayes\n",
    "nb_pred = train_and_test(GaussianNB())"
   ]
  },
  {
   "cell_type": "code",
   "execution_count": null,
   "metadata": {},
   "outputs": [],
   "source": []
  },
  {
   "cell_type": "code",
   "execution_count": null,
   "metadata": {},
   "outputs": [],
   "source": []
  },
  {
   "cell_type": "code",
   "execution_count": 494,
   "metadata": {},
   "outputs": [],
   "source": [
    "RF=RandomForestClassifier(random_state=1)\n",
    "PRF=[{'n_estimators':[10,100],'max_depth':[3,6],'criterion':['gini','entropy']}]\n",
    "GSRF=GridSearchCV(estimator=RF, param_grid=PRF, scoring='accuracy',cv=10)\n",
    "scores_rf=cross_val_score(GSRF,xtrain,ytrain,scoring='accuracy',cv=10)"
   ]
  },
  {
   "cell_type": "code",
   "execution_count": 495,
   "metadata": {},
   "outputs": [
    {
     "data": {
      "text/plain": [
       "0.8316944728180683"
      ]
     },
     "execution_count": 495,
     "metadata": {},
     "output_type": "execute_result"
    }
   ],
   "source": [
    "np.mean(scores_rf)"
   ]
  },
  {
   "cell_type": "code",
   "execution_count": null,
   "metadata": {},
   "outputs": [],
   "source": [
    "svc=make_pipeline(StandardScaler(),SVC(random_state=1))\n",
    "r=[0.0001,0.001,0.1,1,10,50,100]\n",
    "PSVM=[{'svc__C':r, 'svc__kernel':['linear']},\n",
    "      {'svc__C':r, 'svc__gamma':r, 'svc__kernel':['rbf']}]\n",
    "GSSVM=GridSearchCV(estimator=svc, param_grid=PSVM, scoring='accuracy', cv=2)\n",
    "scores_svm=cross_val_score(GSSVM, xtrain.astype(float), ytrain,scoring='accuracy', cv=2)"
   ]
  },
  {
   "cell_type": "code",
   "execution_count": null,
   "metadata": {},
   "outputs": [],
   "source": [
    "np.mean(scores_svm)"
   ]
  },
  {
   "cell_type": "code",
   "execution_count": null,
   "metadata": {},
   "outputs": [],
   "source": [
    "model=GSRF.fit(xtrain, ytrain)\n",
    "pred=model.predict(xtest)"
   ]
  },
  {
   "cell_type": "code",
   "execution_count": null,
   "metadata": {},
   "outputs": [],
   "source": []
  },
  {
   "cell_type": "markdown",
   "metadata": {},
   "source": [
    "## 5. Submit"
   ]
  },
  {
   "cell_type": "code",
   "execution_count": 490,
   "metadata": {},
   "outputs": [],
   "source": [
    "# 답안지 형식을 불러옵니다.\n",
    "submit = pd.read_csv(\"titanic/gender_submission.csv\", \n",
    "            index_col=\"PassengerId\")"
   ]
  },
  {
   "cell_type": "code",
   "execution_count": 491,
   "metadata": {},
   "outputs": [
    {
     "data": {
      "text/html": [
       "<div>\n",
       "<style scoped>\n",
       "    .dataframe tbody tr th:only-of-type {\n",
       "        vertical-align: middle;\n",
       "    }\n",
       "\n",
       "    .dataframe tbody tr th {\n",
       "        vertical-align: top;\n",
       "    }\n",
       "\n",
       "    .dataframe thead th {\n",
       "        text-align: right;\n",
       "    }\n",
       "</style>\n",
       "<table border=\"1\" class=\"dataframe\">\n",
       "  <thead>\n",
       "    <tr style=\"text-align: right;\">\n",
       "      <th></th>\n",
       "      <th>Survived</th>\n",
       "    </tr>\n",
       "    <tr>\n",
       "      <th>PassengerId</th>\n",
       "      <th></th>\n",
       "    </tr>\n",
       "  </thead>\n",
       "  <tbody>\n",
       "    <tr>\n",
       "      <td>892</td>\n",
       "      <td>0</td>\n",
       "    </tr>\n",
       "    <tr>\n",
       "      <td>893</td>\n",
       "      <td>1</td>\n",
       "    </tr>\n",
       "    <tr>\n",
       "      <td>894</td>\n",
       "      <td>0</td>\n",
       "    </tr>\n",
       "    <tr>\n",
       "      <td>895</td>\n",
       "      <td>0</td>\n",
       "    </tr>\n",
       "    <tr>\n",
       "      <td>896</td>\n",
       "      <td>1</td>\n",
       "    </tr>\n",
       "  </tbody>\n",
       "</table>\n",
       "</div>"
      ],
      "text/plain": [
       "             Survived\n",
       "PassengerId          \n",
       "892                 0\n",
       "893                 1\n",
       "894                 0\n",
       "895                 0\n",
       "896                 1"
      ]
     },
     "execution_count": 491,
     "metadata": {},
     "output_type": "execute_result"
    }
   ],
   "source": [
    "# 예측한답을 답안지에 옮겨적습니다.\n",
    "submit['Survived'] = pred\n",
    "submit.head()"
   ]
  },
  {
   "cell_type": "code",
   "execution_count": 492,
   "metadata": {},
   "outputs": [],
   "source": [
    "# 캐글에 제출하기 위해 csv파일로 저장합니다.\n",
    "submit.to_csv(\"titanic/kaggle_submit.csv\")"
   ]
  },
  {
   "cell_type": "code",
   "execution_count": 493,
   "metadata": {},
   "outputs": [
    {
     "data": {
      "text/html": [
       "<div>\n",
       "<style scoped>\n",
       "    .dataframe tbody tr th:only-of-type {\n",
       "        vertical-align: middle;\n",
       "    }\n",
       "\n",
       "    .dataframe tbody tr th {\n",
       "        vertical-align: top;\n",
       "    }\n",
       "\n",
       "    .dataframe thead th {\n",
       "        text-align: right;\n",
       "    }\n",
       "</style>\n",
       "<table border=\"1\" class=\"dataframe\">\n",
       "  <thead>\n",
       "    <tr style=\"text-align: right;\">\n",
       "      <th></th>\n",
       "      <th>PassengerId</th>\n",
       "      <th>Survived</th>\n",
       "    </tr>\n",
       "  </thead>\n",
       "  <tbody>\n",
       "    <tr>\n",
       "      <td>0</td>\n",
       "      <td>892</td>\n",
       "      <td>0</td>\n",
       "    </tr>\n",
       "    <tr>\n",
       "      <td>1</td>\n",
       "      <td>893</td>\n",
       "      <td>1</td>\n",
       "    </tr>\n",
       "    <tr>\n",
       "      <td>2</td>\n",
       "      <td>894</td>\n",
       "      <td>0</td>\n",
       "    </tr>\n",
       "    <tr>\n",
       "      <td>3</td>\n",
       "      <td>895</td>\n",
       "      <td>0</td>\n",
       "    </tr>\n",
       "    <tr>\n",
       "      <td>4</td>\n",
       "      <td>896</td>\n",
       "      <td>1</td>\n",
       "    </tr>\n",
       "  </tbody>\n",
       "</table>\n",
       "</div>"
      ],
      "text/plain": [
       "   PassengerId  Survived\n",
       "0          892         0\n",
       "1          893         1\n",
       "2          894         0\n",
       "3          895         0\n",
       "4          896         1"
      ]
     },
     "execution_count": 493,
     "metadata": {},
     "output_type": "execute_result"
    }
   ],
   "source": [
    "# 제대로 저장이 되었는지 확인합니다.\n",
    "pd.read_csv(\"titanic/kaggle_submit.csv\").head()"
   ]
  },
  {
   "cell_type": "code",
   "execution_count": null,
   "metadata": {},
   "outputs": [],
   "source": []
  },
  {
   "cell_type": "code",
   "execution_count": null,
   "metadata": {},
   "outputs": [],
   "source": []
  },
  {
   "cell_type": "code",
   "execution_count": null,
   "metadata": {},
   "outputs": [],
   "source": []
  },
  {
   "cell_type": "code",
   "execution_count": null,
   "metadata": {},
   "outputs": [],
   "source": []
  }
 ],
 "metadata": {
  "kernelspec": {
   "display_name": "Python 3",
   "language": "python",
   "name": "python3"
  },
  "language_info": {
   "codemirror_mode": {
    "name": "ipython",
    "version": 3
   },
   "file_extension": ".py",
   "mimetype": "text/x-python",
   "name": "python",
   "nbconvert_exporter": "python",
   "pygments_lexer": "ipython3",
   "version": "3.7.4"
  }
 },
 "nbformat": 4,
 "nbformat_minor": 4
}
